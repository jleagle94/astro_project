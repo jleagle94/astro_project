{
 "cells": [
  {
   "cell_type": "markdown",
   "metadata": {},
   "source": [
    "We explore Cherenkov Radiation for this project. Cherenkov Radiation results from a charged particle that moves with a speed greater than the speed of light **through that particular medium**. i.e.\n",
    "\n",
    "$v_{par} > \\frac{c}{n}$\n",
    "\n",
    "In astrophysics, this is why the precise direction of the radiation gives us energy measurements! The radiation is a rapid energy-loss mechanism of the charged particle.\n",
    "\n",
    "We will simulate spectra for Cherenkov radiation under different parameters."
   ]
  },
  {
   "cell_type": "markdown",
   "metadata": {},
   "source": [
    "We will assume the Frank-Tamm formula for the frequency spectrum resulting from a charged particle moving relativistically along the $x$ axis in a medium with refraction index $n$. For material on the derivation of this formula see Jackson (EM book) and many online resources. "
   ]
  },
  {
   "cell_type": "markdown",
   "metadata": {},
   "source": [
    "Frequency spectrum:\n",
    "\n",
    "$\\frac{dE}{dx} = \\frac{q^2 \\mu}{4\\pi}(1-\\frac{1}{\\beta^2n^2}) \\nu d\\nu$"
   ]
  },
  {
   "cell_type": "markdown",
   "metadata": {},
   "source": [
    "Let's get this in the form of $\\nu F_{\\nu}$ form. "
   ]
  },
  {
   "cell_type": "markdown",
   "metadata": {},
   "source": [
    "We have $\\frac{dE}{dx}$ but we want $\\nu F_{\\nu}$. We note that $dx = \\frac{c}{n} dt$ therefore\n",
    "\n",
    "$\\frac{dE}{dx} = \\frac{n}{c} \\frac{dE}{dt}$\n",
    "\n",
    "Which is power. $P = \\frac{dE}{dt}$"
   ]
  },
  {
   "cell_type": "markdown",
   "metadata": {},
   "source": [
    "Next we note $P = \\frac{4\\pi L_\\nu}{V}$ where $L_\\nu$ is the luminosity at a given $\\nu$ and $V$ is the volume. We also note that $L_\\nu = F_\\nu A$ where $A$ is the area."
   ]
  },
  {
   "cell_type": "markdown",
   "metadata": {},
   "source": [
    "Therefore,\n",
    "\n",
    "$P = \\frac{dE}{dt} = \\frac{ 4\\pi F_\\nu A}{V}$\n",
    "\n",
    "$V=AL$\n",
    "\n",
    "$P = \\frac{dE}{dt} = \\frac{ 4\\pi F_\\nu}{L}$"
   ]
  },
  {
   "cell_type": "markdown",
   "metadata": {},
   "source": [
    "Where $L$ is the distance travelled by the moving charged particle. This would be an input parameter."
   ]
  },
  {
   "cell_type": "markdown",
   "metadata": {},
   "source": [
    "Moving things around, we see that $F_\\nu$ becomes\n",
    "\n",
    "$F_\\nu = \\frac{c L}{4\\pi n} \\bigg[\\frac{q^2 \\mu}{4\\pi}(1-\\frac{1}{\\beta^2n^2}) \\nu d\\nu \\bigg]$"
   ]
  },
  {
   "cell_type": "markdown",
   "metadata": {},
   "source": [
    "To get the form we are looking for, we multiply a fancy one to the right hand side, i.e. $\\frac{\\nu}{\\nu}$:\n",
    "    \n",
    "$F_\\nu = \\frac{q^2 c \\mu \\ln(10)}{(4\\pi )^2 n} (1-\\frac{1}{\\beta^2n^2}) L \\nu^2 d(\\log(\\nu))$"
   ]
  },
  {
   "cell_type": "markdown",
   "metadata": {},
   "source": [
    "And finally, multiply by one more $\\nu$:\n",
    "    \n",
    "$\\nu F_\\nu = A(n) (1-\\frac{1}{\\beta^2n^2}) L \\nu^3 d(\\log(\\nu))$\n",
    "\n",
    "with $A(n) = \\frac{q^2 c \\mu \\ln(10)}{(4\\pi)^2 n}$. A is a function of n because $\\mu$ is the magnetic permeability and depends on the material of which we propagate through. But since we are interested in only interactions in water, we will simplify quite a bit in a moment."
   ]
  },
  {
   "cell_type": "markdown",
   "metadata": {},
   "source": [
    "So we see $A(n)$ is just a constant in our simple model because $n=1.333$ in water, therefore $\\mu$ is a determined, unchanging quantity ($\\mu = 1.25\\times10^{-6} H/m$) and the rest are fundamental constants. So we note that $A(n=1.33) = A = 1.05248\\times10^{-37} \\frac{C^2H}{m}$"
   ]
  },
  {
   "cell_type": "markdown",
   "metadata": {},
   "source": [
    "Now our equation looks like:\n",
    "    \n",
    "$\\nu F_\\nu = A (1-\\frac{1}{\\beta^2 n^2}) L \\nu^3 d(\\log(\\nu))$"
   ]
  },
  {
   "cell_type": "markdown",
   "metadata": {},
   "source": [
    "where $A$ is known, $\\beta$ and $L$ are input parameters, and we plot against some frequency range $[\\nu, \\nu+d\\nu]$"
   ]
  },
  {
   "cell_type": "markdown",
   "metadata": {},
   "source": [
    "Now let's plot for varying $\\beta$s and $L$s and $n$s. "
   ]
  },
  {
   "cell_type": "markdown",
   "metadata": {},
   "source": [
    "Import necessary packages."
   ]
  },
  {
   "cell_type": "code",
   "execution_count": 1,
   "metadata": {},
   "outputs": [],
   "source": [
    "import matplotlib\n",
    "import matplotlib.pyplot as plt\n",
    "import numpy as np\n",
    "import math\n",
    "import scipy.integrate as integrate\n",
    "from scipy.integrate import quad"
   ]
  },
  {
   "cell_type": "markdown",
   "metadata": {},
   "source": [
    "Define your variables."
   ]
  },
  {
   "cell_type": "code",
   "execution_count": 2,
   "metadata": {},
   "outputs": [
    {
     "name": "stdout",
     "output_type": "stream",
     "text": [
      "1.0501154406272732e-37\n"
     ]
    }
   ],
   "source": [
    "# remember beta must be < 1 for Cherenkov radiation to occur but greater than 1/n which is 0.7518.\n",
    "beta = 0.77777 #must be greater than 0.7518\n",
    "L = 1e-3 #in meters because of the \\mu constant's dimensions.\n",
    "q = 1.6e-19 #fundamental charge.\n",
    "n = 1.333\n",
    "c = 3e8 # m/s\n",
    "mu = 1.25e-6 #mu which is pretty much constant in most material.\n",
    "A = q**2*c*mu*np.log(10)/(n*(4*np.pi)**2) #in C^2*H/m.\n",
    "print A"
   ]
  },
  {
   "cell_type": "code",
   "execution_count": 3,
   "metadata": {},
   "outputs": [
    {
     "name": "stdout",
     "output_type": "stream",
     "text": [
      "[1.00000000e+22 2.78255940e+22 7.74263683e+22 2.15443469e+23\n",
      " 5.99484250e+23 1.66810054e+24 4.64158883e+24 1.29154967e+25\n",
      " 3.59381366e+25 1.00000000e+26]\n"
     ]
    }
   ],
   "source": [
    "#Our frequencies logarithmically spaced.\n",
    "v = np.logspace(22, 26, num=10, base=10) #in Hz, from 100MeV and goes up to 2TeV.\n",
    "# ln(10)log(x)=ln(x).... x = exp(ln(10)*log(x))\n",
    "print v"
   ]
  },
  {
   "cell_type": "markdown",
   "metadata": {},
   "source": [
    "Integrate with these values to find $\\nu F_\\nu$ $y$ points over varying frequency bins."
   ]
  },
  {
   "cell_type": "code",
   "execution_count": 4,
   "metadata": {},
   "outputs": [
    {
     "name": "stdout",
     "output_type": "stream",
     "text": [
      "1.17944858206e-37\n",
      "1.30945097216e-51\n"
     ]
    }
   ],
   "source": [
    "def integrand(v, beta): \n",
    "    return A*L*(1 - 1/(beta**(2)*(n)**2))*(v**(3))\n",
    "\n",
    "#Integrate over the varying frequency bins for several data points (stored in v).\n",
    "ans, err = quad(integrand, np.log10(2.41e22), np.log10(5.0e23), args=(beta,))\n",
    "print ans\n",
    "print err"
   ]
  },
  {
   "cell_type": "markdown",
   "metadata": {},
   "source": [
    "Plot."
   ]
  },
  {
   "cell_type": "code",
   "execution_count": 5,
   "metadata": {},
   "outputs": [
    {
     "name": "stdout",
     "output_type": "stream",
     "text": [
      "y=69005254452.072235x+(-309907319681162880167547089050402816.000000)\n"
     ]
    },
    {
     "data": {
      "image/png": "[encoded data removed]",
      "text/plain": [
       "<Figure size 432x288 with 1 Axes>"
      ]
     },
     "metadata": {
      "needs_background": "light"
     },
     "output_type": "display_data"
    }
   ],
   "source": [
    "x = v\n",
    "y = integrand(v,beta)\n",
    "plt.scatter([x],[y], marker = \".\", label = \"Cherenkov light for beta=0.7777, L=100 m\")\n",
    "plt.xscale('log')\n",
    "plt.yscale('log')\n",
    "#plt.xlim([2e-1,1e4])\n",
    "#plt.ylim([1e-15,5e-10])\n",
    "plt.ylabel('nu F_nu (erg/cm^2/s)')\n",
    "plt.xlabel('nu (Hz)')\n",
    "plt.title('Spectral distribution for a particle radiating Cherenkov light,  moving at beta=0.7777 and travels 10.0 m.')\n",
    "# plot the data itself\n",
    "import pylab\n",
    "#pylab.plot(x,y,'o')\n",
    "\n",
    "# calc the trendline\n",
    "z = np.polyfit(x, y, 1)\n",
    "p = np.poly1d(z)\n",
    "pylab.plot(x,p(x),\"r--\")\n",
    "# the line equation:\n",
    "print \"y=%.6fx+(%.6f)\"%(z[0],z[1])"
   ]
  },
  {
   "cell_type": "markdown",
   "metadata": {},
   "source": [
    "What's happening lol? \n",
    "\n",
    "Now let's focus on making a movie of Cherenkov light from a moving charged particle.\n",
    "\n",
    "Import packages:"
   ]
  },
  {
   "cell_type": "code",
   "execution_count": 81,
   "metadata": {},
   "outputs": [],
   "source": [
    "%matplotlib inline\n",
    "import numpy as np\n",
    "import matplotlib.pyplot as plt\n",
    "from matplotlib import animation, rc\n",
    "from IPython.display import HTML"
   ]
  },
  {
   "cell_type": "markdown",
   "metadata": {},
   "source": [
    "Set up the figure and axes. Line, particle, and circle are the elements we want to animate."
   ]
  },
  {
   "cell_type": "code",
   "execution_count": 82,
   "metadata": {},
   "outputs": [
    {
     "data": {
      "image/png": "[encoded data removed]",
      "text/plain": [
       "<Figure size 432x288 with 1 Axes>"
      ]
     },
     "metadata": {
      "needs_background": "light"
     },
     "output_type": "display_data"
    }
   ],
   "source": [
    "fig, ax = plt.subplots()\n",
    "Nframes = 100\n",
    "ax.set_xlim((0, 10))\n",
    "ax.set_ylim((0, 10))\n",
    "\n",
    "\n",
    "plt.xlabel('position', fontsize=12)\n",
    "#plt.ylabel('x position', fontsize=12)\n",
    "line, = ax.plot([], [], lw=1)\n",
    "particle, = ax.plot([], [], marker='o', ms=7, color='blue')\n",
    "circle, = ax.plot([], [], color='red')"
   ]
  },
  {
   "cell_type": "markdown",
   "metadata": {},
   "source": [
    "Define intial function. "
   ]
  },
  {
   "cell_type": "code",
   "execution_count": 83,
   "metadata": {},
   "outputs": [],
   "source": [
    "def init():\n",
    "    circle.set_data([], [])\n",
    "    particle.set_data([], [])\n",
    "    line.set_data([],[])\n",
    "    return circle, particle, line,"
   ]
  },
  {
   "cell_type": "markdown",
   "metadata": {},
   "source": [
    "Insert the motion of Cherenkov light. "
   ]
  },
  {
   "cell_type": "code",
   "execution_count": 113,
   "metadata": {},
   "outputs": [],
   "source": [
    "def animate(i):\n",
    "    t = 3*np.pi*float(i/(Nframes-1.))\n",
    "    t_total = np.linspace(0, 2.*np.pi, Nframes)\n",
    "    t1 = t/20\n",
    "    t2 = t/10\n",
    "    t3 = t/5\n",
    "    t4 = t\n",
    "    beta = 0.757\n",
    "    x = beta*t\n",
    "    y = 5\n",
    "    c = 1\n",
    "    circ1 = plt.Circle((x, t), radius=c*(t-t1)*np.heaviside(t, t1), facecolor=\"None\", edgecolor='k', lw=2)\n",
    "    circ2 = plt.Circle((x, t), radius=c*(t-t2)*np.heaviside(t, t2), facecolor=\"None\", edgecolor='k', lw=2)\n",
    "    circ3 = plt.Circle((x, t), radius=c*(t-t3)*np.heaviside(t, t3), facecolor=\"None\", edgecolor='k', lw=2)\n",
    "    circ4 = plt.Circle((x, t), radius=c*(t-t4)*np.heaviside(t, t4), facecolor=\"None\", edgecolor='k', lw=2)\n",
    "    ax.add_artist(circ1)\n",
    "    ax.add_artist(circ2)\n",
    "    ax.add_artist(circ3)\n",
    "    ax.add_artist(circ4)\n",
    "    #circle.set_data(x, y)\n",
    "    line.set_data([0,10],[5])\n",
    "    particle.set_data(x,y)\n",
    "    return circle, particle, line,"
   ]
  },
  {
   "cell_type": "code",
   "execution_count": 114,
   "metadata": {},
   "outputs": [],
   "source": [
    "#Compile\n",
    "anim = animation.FuncAnimation(fig, animate, init_func=init,\n",
    "                               frames=150, interval=20, \n",
    "                               blit=True)"
   ]
  },
  {
   "cell_type": "code",
   "execution_count": null,
   "metadata": {},
   "outputs": [],
   "source": [
    "#Display interactively\n",
    "HTML(anim.to_html5_video())\n",
    "#Or save to a file in your working directory\n",
    "#anim.save('my_movie.mp4', fps=15)"
   ]
  },
  {
   "cell_type": "markdown",
   "metadata": {},
   "source": [
    "So right now, really cool things are happening. But it's not cherenkov light. On Monday, December 9, I spent some more time trying to get these dang circles to expand from the particle radially in four locations. I have failed :( but I know the code is close, no matter how deceiving the sad little video is. It has something to do with the way I define each origin for each expanding circle. Can't quite wrap my mind around it but stay tuned! "
   ]
  },
  {
   "cell_type": "code",
   "execution_count": 35,
   "metadata": {},
   "outputs": [],
   "source": [
    "#With interactive interface\n",
    "#HTML(anim.to_jshtml())"
   ]
  }
 ],
 "metadata": {
  "kernelspec": {
   "display_name": "Python 2",
   "language": "python",
   "name": "python2"
  },
  "language_info": {
   "codemirror_mode": {
    "name": "ipython",
    "version": 2
   },
   "file_extension": ".py",
   "mimetype": "text/x-python",
   "name": "python",
   "nbconvert_exporter": "python",
   "pygments_lexer": "ipython2",
   "version": "2.7.16"
  }
 },
 "nbformat": 4,
 "nbformat_minor": 2
}
