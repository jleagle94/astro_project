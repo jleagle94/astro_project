{
 "cells": [
  {
   "cell_type": "markdown",
   "metadata": {},
   "source": [
    "We explore Cherenkov Radiation for this project. Cherenkov Radiation results from a charged particle that moves with a speed greater than the speed of light **through that particular medium**. i.e.\n",
    "\n",
    "$v_{par} > \\frac{c}{n}$\n",
    "\n",
    "In astrophysics, this is why the precise direction of the radiation gives us energy measurements! The radiation is a rapid energy-loss mechanism of the charged particle.\n",
    "\n",
    "We will simulate spectra for Cherenkov radiation under different parameters."
   ]
  },
  {
   "cell_type": "markdown",
   "metadata": {},
   "source": [
    "We will assume the Frank-Tamm formula for the frequency spectrum resulting from a charged particle moving relativistically along the $x$ axis in a medium with refraction index $n$. For material on the derivation of this formula see Jackson (EM book) and many online resources. "
   ]
  },
  {
   "cell_type": "markdown",
   "metadata": {},
   "source": [
    "Frequency spectrum:\n",
    "\n",
    "$\\frac{dE}{dx} = \\frac{q^2 \\mu}{4\\pi}(1-\\frac{1}{\\beta^2n^2}) \\nu d\\nu$"
   ]
  },
  {
   "cell_type": "markdown",
   "metadata": {},
   "source": [
    "Let's get this in the form of $\\nu F_{\\nu}$ form. "
   ]
  },
  {
   "cell_type": "markdown",
   "metadata": {},
   "source": [
    "We have $\\frac{dE}{dx}$ but we want $\\nu F_{\\nu}$. We note that $dx = \\frac{c}{n} dt$ therefore\n",
    "\n",
    "$\\frac{dE}{dx} = \\frac{n}{c} \\frac{dE}{dt}$\n",
    "\n",
    "Which is power. $P = \\frac{dE}{dt}$"
   ]
  },
  {
   "cell_type": "markdown",
   "metadata": {},
   "source": [
    "Next we note $P = \\frac{4\\pi L_\\nu}{V}$ where $L_\\nu$ is the luminosity at a given $\\nu$ and $V$ is the volume. We also note that $L_\\nu = F_\\nu A$ where $A$ is the area."
   ]
  },
  {
   "cell_type": "markdown",
   "metadata": {},
   "source": [
    "Therefore,\n",
    "\n",
    "$P = \\frac{dE}{dt} = \\frac{ 4\\pi F_\\nu A}{V}$\n",
    "\n",
    "$V=AL$\n",
    "\n",
    "$P = \\frac{dE}{dt} = \\frac{ 4\\pi F_\\nu}{L}$"
   ]
  },
  {
   "cell_type": "markdown",
   "metadata": {},
   "source": [
    "Where $L$ is the distance travelled by the moving charged particle. This would be an input parameter."
   ]
  },
  {
   "cell_type": "markdown",
   "metadata": {},
   "source": [
    "Moving things around, we see that $F_\\nu$ becomes\n",
    "\n",
    "$F_\\nu = \\frac{c L}{4\\pi n} \\bigg[\\frac{q^2 \\mu}{4\\pi}(1-\\frac{1}{\\beta^2n^2}) \\nu d\\nu \\bigg]$"
   ]
  },
  {
   "cell_type": "markdown",
   "metadata": {},
   "source": [
    "To get the form we are looking for, we multiply a fancy one to the right hand side, i.e. $\\frac{\\nu}{\\nu}$:\n",
    "    \n",
    "$F_\\nu = \\frac{q^2 c \\mu \\ln(10)}{(4\\pi )^2 n} (1-\\frac{1}{\\beta^2n^2}) L \\nu^2 d(\\log(\\nu))$"
   ]
  },
  {
   "cell_type": "markdown",
   "metadata": {},
   "source": [
    "And finally, multiply by one more $\\nu$:\n",
    "    \n",
    "$\\nu F_\\nu = A(n) (1-\\frac{1}{\\beta^2n^2}) L \\nu^3 d(\\log(\\nu))$\n",
    "\n",
    "with $A(n) = \\frac{q^2 c \\mu \\ln(10)}{(4\\pi)^2 n}$. A is a function of n because $\\mu$ is the magnetic permeability and depends on the material of which we propagate through. But since we are interested in only interactions in water, we will simplify quite a bit in a moment."
   ]
  },
  {
   "cell_type": "markdown",
   "metadata": {},
   "source": [
    "So we see $A(n)$ is just a constant in our simple model because $n=1.333$ in water, therefore $\\mu$ is a determined, unchanging quantity ($\\mu = 1.25\\times10^{-6} H/m$) and the rest are fundamental constants. So we note that $A(n=1.33) = A = 1.05248\\times10^{-37} \\frac{C^2H}{m}$"
   ]
  },
  {
   "cell_type": "markdown",
   "metadata": {},
   "source": [
    "Now our equation looks like:\n",
    "    \n",
    "$\\nu F_\\nu = A (1-\\frac{1}{\\beta^2 n^2}) L \\nu^3 d(\\log(\\nu))$"
   ]
  },
  {
   "cell_type": "markdown",
   "metadata": {},
   "source": [
    "where $A$ is known, $\\beta$ and $L$ are input parameters, and we plot against some frequency range $[\\nu, \\nu+d\\nu]$"
   ]
  },
  {
   "cell_type": "markdown",
   "metadata": {},
   "source": [
    "Now let's plot for varying $\\beta$s and $L$s and $n$s. "
   ]
  },
  {
   "cell_type": "markdown",
   "metadata": {},
   "source": [
    "Import necessary packages."
   ]
  },
  {
   "cell_type": "code",
   "execution_count": 1,
   "metadata": {},
   "outputs": [],
   "source": [
    "import matplotlib\n",
    "import matplotlib.pyplot as plt\n",
    "import numpy as np\n",
    "import math\n",
    "import scipy.integrate as integrate\n",
    "from scipy.integrate import quad"
   ]
  },
  {
   "cell_type": "markdown",
   "metadata": {},
   "source": [
    "Define your variables."
   ]
  },
  {
   "cell_type": "code",
   "execution_count": 2,
   "metadata": {},
   "outputs": [
    {
     "name": "stdout",
     "output_type": "stream",
     "text": [
      "1.0501154406272732e-37\n"
     ]
    }
   ],
   "source": [
    "# remember beta must be < 1 for Cherenkov radiation to occur but greater than 1/n which is 0.7518.\n",
    "beta = 0.77777 #must be greater than 0.7518\n",
    "L = 1e-3 #in meters because of the \\mu constant's dimensions.\n",
    "q = 1.6e-19 #fundamental charge.\n",
    "n = 1.333\n",
    "c = 3e8 # m/s\n",
    "mu = 1.25e-6 #mu which is pretty much constant in most material.\n",
    "A = q**2*c*mu*np.log(10)/(n*(4*np.pi)**2) #in C^2*H/m.\n",
    "print A"
   ]
  },
  {
   "cell_type": "code",
   "execution_count": 3,
   "metadata": {},
   "outputs": [
    {
     "name": "stdout",
     "output_type": "stream",
     "text": [
      "[1.00000000e+22 2.78255940e+22 7.74263683e+22 2.15443469e+23\n",
      " 5.99484250e+23 1.66810054e+24 4.64158883e+24 1.29154967e+25\n",
      " 3.59381366e+25 1.00000000e+26]\n"
     ]
    }
   ],
   "source": [
    "#Our frequencies logarithmically spaced.\n",
    "v = np.logspace(22, 26, num=10, base=10) #in Hz, from 100MeV and goes up to 2TeV.\n",
    "# ln(10)log(x)=ln(x).... x = exp(ln(10)*log(x))\n",
    "print v"
   ]
  },
  {
   "cell_type": "markdown",
   "metadata": {},
   "source": [
    "Integrate with these values to find $\\nu F_\\nu$ $y$ points over varying frequency bins."
   ]
  },
  {
   "cell_type": "code",
   "execution_count": 4,
   "metadata": {},
   "outputs": [
    {
     "name": "stdout",
     "output_type": "stream",
     "text": [
      "1.17944858206e-37\n",
      "1.30945097216e-51\n"
     ]
    }
   ],
   "source": [
    "def integrand(v, beta): \n",
    "    return A*L*(1 - 1/(beta**(2)*(n)**2))*(v**(3))\n",
    "\n",
    "#Integrate over the varying frequency bins for several data points (stored in v).\n",
    "ans, err = quad(integrand, np.log10(2.41e22), np.log10(5.0e23), args=(beta,))\n",
    "print ans\n",
    "print err"
   ]
  },
  {
   "cell_type": "markdown",
   "metadata": {},
   "source": [
    "Plot."
   ]
  },
  {
   "cell_type": "code",
   "execution_count": 5,
   "metadata": {},
   "outputs": [
    {
     "name": "stdout",
     "output_type": "stream",
     "text": [
      "y=69005254452.072235x+(-309907319681162880167547089050402816.000000)\n"
     ]
    },
    {
     "data": {
      "image/png": "[encoded data removed]",
      "text/plain": [
       "<Figure size 432x288 with 1 Axes>"
      ]
     },
     "metadata": {
      "needs_background": "light"
     },
     "output_type": "display_data"
    }
   ],
   "source": [
    "x = v\n",
    "y = integrand(v,beta)\n",
    "plt.scatter([x],[y], marker = \".\", label = \"Cherenkov light for beta=0.7777, L=100 m\")\n",
    "plt.xscale('log')\n",
    "plt.yscale('log')\n",
    "#plt.xlim([2e-1,1e4])\n",
    "#plt.ylim([1e-15,5e-10])\n",
    "plt.ylabel('nu F_nu (erg/cm^2/s)')\n",
    "plt.xlabel('nu (Hz)')\n",
    "plt.title('Spectral distribution for a particle radiating Cherenkov light,  moving at beta=0.7777 and travels 10.0 m.')\n",
    "# plot the data itself\n",
    "import pylab\n",
    "#pylab.plot(x,y,'o')\n",
    "\n",
    "# calc the trendline\n",
    "z = np.polyfit(x, y, 1)\n",
    "p = np.poly1d(z)\n",
    "pylab.plot(x,p(x),\"r--\")\n",
    "# the line equation:\n",
    "print \"y=%.6fx+(%.6f)\"%(z[0],z[1])"
   ]
  },
  {
   "cell_type": "markdown",
   "metadata": {},
   "source": [
    "What's happening lol? \n",
    "\n",
    "Now let's focus on making a movie of Cherenkov light from a moving charged particle.\n",
    "\n",
    "Import packages:"
   ]
  },
  {
   "cell_type": "code",
   "execution_count": 221,
   "metadata": {},
   "outputs": [],
   "source": [
    "%matplotlib inline\n",
    "from matplotlib import animation, rc\n",
    "from IPython.display import HTML"
   ]
  },
  {
   "cell_type": "markdown",
   "metadata": {},
   "source": [
    "Set up the figure and axes. Line, particle, and circle are the elements we want to animate."
   ]
  },
  {
   "cell_type": "code",
   "execution_count": 222,
   "metadata": {},
   "outputs": [
    {
     "data": {
      "image/png": "[encoded data removed]",
      "text/plain": [
       "<Figure size 432x288 with 1 Axes>"
      ]
     },
     "metadata": {
      "needs_background": "light"
     },
     "output_type": "display_data"
    }
   ],
   "source": [
    "fig, ax = plt.subplots()\n",
    "Nframes = 100\n",
    "ax.set_xlim((0, 10))\n",
    "ax.set_ylim((0, 10))\n",
    "\n",
    "\n",
    "ax1 = plt.plot()\n",
    "circ = plt.Circle((5, 5), radius=rad, facecolor=\"None\", edgecolor='k', lw=4)\n",
    "plt.ylabel('time', fontsize=12)\n",
    "plt.xlabel('x position', fontsize=12)\n",
    "particle, = plt.plot([], [], marker='o', ms=10, color='b') #particle\n",
    "\n",
    "line, = plt.plot([], [], lw=1)\n",
    "particle, = plt.plot([], [], marker='o', lw=3)\n",
    "circle, = plt.plot([], [], marker='o', ms=10)"
   ]
  },
  {
   "cell_type": "markdown",
   "metadata": {},
   "source": [
    "Define intial function. "
   ]
  },
  {
   "cell_type": "code",
   "execution_count": 223,
   "metadata": {},
   "outputs": [],
   "source": [
    "def init():\n",
    "    circle.set_data([], [])\n",
    "    particle.set_data([], [])\n",
    "    line.set_data([],[])\n",
    "    return circle, particle, line,"
   ]
  },
  {
   "cell_type": "markdown",
   "metadata": {},
   "source": [
    "Insert the motion of Cherenkov light. "
   ]
  },
  {
   "cell_type": "code",
   "execution_count": 224,
   "metadata": {},
   "outputs": [],
   "source": [
    "def animate(i):\n",
    "    t = 2.*np.pi*float(i/(Nframes - 1.))\n",
    "    x = 1*t\n",
    "    y = 5\n",
    "    line.set_data([0,10],[5])\n",
    "    particle.set_data(x,y)\n",
    "    rad = 3e8*t\n",
    "    x_marker =  x*rad\n",
    "    y_marker = y*rad\n",
    "    circle.set_data(x_marker, y_marker)\n",
    "    #all_t = np.linspace(0, 2.*np.pi, Nframes)\n",
    "    return circle, particle, line,"
   ]
  },
  {
   "cell_type": "code",
   "execution_count": 225,
   "metadata": {},
   "outputs": [],
   "source": [
    "#Compile\n",
    "anim = animation.FuncAnimation(fig, animate, init_func=init,\n",
    "                               frames=100, interval=20, \n",
    "                               blit=True)"
   ]
  },
  {
   "cell_type": "code",
   "execution_count": 226,
   "metadata": {},
   "outputs": [
    {
     "data": {
      "text/html": [
       "<video width=\"432\" height=\"288\" controls autoplay loop>\n",
       "  <source type=\"video/mp4\" src=\"data:video/mp4;base64,AAAAHGZ0eXBNNFYgAAACAGlzb21pc28yYXZjMQAAAAhmcmVlAAAV421kYXQAAAKgBgX//5zcRem9\n",
       "5tlIt5Ys2CDZI+7veDI2NCAtIGNvcmUgMTU3IC0gSC4yNjQvTVBFRy00IEFWQyBjb2RlYyAtIENv\n",
       "cHlsZWZ0IDIwMDMtMjAxOCAtIGh0dHA6Ly93d3cudmlkZW9sYW4ub3JnL3gyNjQuaHRtbCAtIG9w\n",
       "dGlvbnM6IGNhYmFjPTEgcmVmPTMgZGVibG9jaz0xOjA6MCBhbmFseXNlPTB4MzoweDExMyBtZT1o\n",
       "ZXggc3VibWU9NyBwc3k9MSBwc3lfcmQ9MS4wMDowLjAwIG1peGVkX3JlZj0xIG1lX3JhbmdlPTE2\n",
       "IGNocm9tYV9tZT0xIHRyZWxsaXM9MSA4eDhkY3Q9MSBjcW09MCBkZWFkem9uZT0yMSwxMSBmYXN0\n",
       "X3Bza2lwPTEgY2hyb21hX3FwX29mZnNldD0tMiB0aHJlYWRzPTYgbG9va2FoZWFkX3RocmVhZHM9\n",
       "MSBzbGljZWRfdGhyZWFkcz0wIG5yPTAgZGVjaW1hdGU9MSBpbnRlcmxhY2VkPTAgYmx1cmF5X2Nv\n",
       "bXBhdD0wIGNvbnN0cmFpbmVkX2ludHJhPTAgYmZyYW1lcz0zIGJfcHlyYW1pZD0yIGJfYWRhcHQ9\n",
       "MSBiX2JpYXM9MCBkaXJlY3Q9MSB3ZWlnaHRiPTEgb3Blbl9nb3A9MCB3ZWlnaHRwPTIga2V5aW50\n",
       "PTI1MCBrZXlpbnRfbWluPTI1IHNjZW5lY3V0PTQwIGludHJhX3JlZnJlc2g9MCByY19sb29rYWhl\n",
       "YWQ9NDAgcmM9Y3JmIG1idHJlZT0xIGNyZj0yMy4wIHFjb21wPTAuNjAgcXBtaW49MCBxcG1heD02\n",
       "OSBxcHN0ZXA9NCBpcF9yYXRpbz0xLjQwIGFxPTE6MS4wMACAAAAG9mWIhAAv//72rvzLK0cLlS4d\n",
       "WXuzUfLoSXL9iDB9aAAAAwAA1WshfB75P4gPvJUAM1DDL9Jq57tdRWwbB4t5fcaDiaH14NVzSSJk\n",
       "+WzhCgS/xcAAFYGHgnvX6/a2H9+Ql3RQp1JTaeketbt81nUkyld91PQ9xT13PDOCG7ESc5EaSnkN\n",
       "2FQDF3WJ68+HHe1Qu/jLP+KQFnjMAjfne7Jnl9eiVf+U+Ym7O7oiZlCYlPKKbjCbPCnzfK7Qnlcy\n",
       "eO1EYlYxVE58/gvNxn5UtKAAdSVdRHlgOcqU/rWST3vs3caOHz7FTGz7veEDxFwX990ofz2OH/wS\n",
       "TKkFFHgiLlkhpeR/XIkU+BRgMGG/BoTEWeMs3o1WYgmyAAADATKSvS4NYLQdGOpCRxjCmp8Z7qsG\n",
       "+fGNBlYznu9jmm4AAUPM+iA/w1lop5UZhPNyRAyYfxJX/6hRR51j36ruCkzQ/g07qcXN615lilcE\n",
       "U61st0Lhg2K6xDqTNheTyB1ddzFW9qCB4/gxJf5VfAod8k/kIFoo3wqYIqdAueSL/RbFZqoEnaPv\n",
       "nsGiKjOZCsBItwR8CD+sM0Z3ue2HMQA0BL0+eB4G++9JeHoGzEH1cui7hT/gVMa2Px8cwd0IKWD5\n",
       "ZgKD24fYuRq4/Z4pE/Bb3fSzUMNR4LlYaCHsjFvpVu/b38bWGq9Km/qSfvxdm5DrlNDZoRvTQlYi\n",
       "cAaXDlAzcHRjD+EEbQ5nr+W95QqMnLi3cwj+275PLJY5zAsKFK6oktKtPknhfTLWHIF0hMcwaKx2\n",
       "41PONzqzHR3GiT3/goBWduzKCOoJ7klqwmUxtGR+Yipjd2BIhFy44n0T7vqCIMn068OHk2R67Kth\n",
       "mq+1bm/L63ISCJqAOw+QPvMjAM33AZO1NWkSfxTvkbkdUIBrCFqLIdfi0MZ2Q+83mzJS/6pbXNcN\n",
       "q3OfkALk9gAAC3MXirhzHADmw8owAt32lv2Nl0JqCthWnHoGf+hGpuTKS6UmSfXeVcv/QQ3gh0Kf\n",
       "ihsq8dPXAOxOchf4FhASZQ+G72FrmO/8TQHipI/fLpfYwF5BhvX/apLln/L4X3kSabAFzaDxbFLB\n",
       "fVFqE5c7CmjZieYy+JEGZAveFYtS2yrCDI5sI5OmV+DQk+6SwfIJffOu8k47f2YOWYTgX+iPoGCo\n",
       "8Itc2SPQR6zOZ7lgRZQ1/Lgvu/RGi/6URwARQYW1DIjy+BGMhZKAkKOrYjas7vHZTfMRhT1XNMVb\n",
       "dZXCLgANLhVAC3B2bXV+awXFG8YrfApb+gqeuugJFYnmAaeRjJ/6u2ixfU+lon/QigVw3QU8KdMH\n",
       "IaJWmzedK9DTMr3wpW0uTBrOmnf+kqjNjQwSHDlYX6NPI1vwJDtHvHp3CjKSf/p/PrDoOwnbbesG\n",
       "DYjw783tFzqWRrfWw4Q8Nfyrvhd04Ew9QcOPyhd58EiqYG2Q4e3377Jwz5wLb0vOhX/c0ZQrnEKT\n",
       "7VwUprdnzCPwkou4xFwyQDuuK8loP2SmfhP4gJLee6J5SWE6poTFhGS6Gk0Nj7uQ8COD3H3gt3cX\n",
       "MpllnGywWE4/pQ3yPrQr600ZtjVvftlzl+Rdmf4HFhv9+V/ijWm+BxQozNYuRnnBZHY/sjG3vaGv\n",
       "0IWfKkiQ6tl7h0f2XMDpElwcEWUuLdIxHAR7pnbXi5K7zPHL1RHRQQqUoqHqbJqq51BN45QaxrkO\n",
       "wJuIVL7bb/eWXf7EVNu/ggKzgx7VkoLwXMhc+wMmgSw8jpuegvUtzXjUHYfvlewxvNSpBFVvHTp4\n",
       "WT6OngbGiPOJXWs/ul28Wsa6wAyUmHCQrLXeX1MtD1v4CKAbQWxUnXAgUqnSWnsT1hJGGviPJChv\n",
       "dWrhlq0sowG78ZVnMs4fxArAcG911TPo6/SVsFvMMujEJTwg723AGMPPU/p6eisuIWrepOLSPtb2\n",
       "ncwl39XbRcvP+oWOdjq7IBDRcEmsEM8xCJpriexcAFi2WzAe7Et9uNubBmeImLtO2xtOWX+TFSUK\n",
       "ZSh0VCw9+g9uWpzEx9UiBVVJQsxzv6mHl1SpJuG2ebI/PBAadYuwYor3jhO4rFzVMft5qdO5ddwZ\n",
       "xVnh1GeBPh7t8WnB4jnXM0vjxzKkP0RzH9asXqT8IkgCZHjvmkVcu5Ze+doLxtIohkLQDv+XUl9I\n",
       "qktofumtHndMwD19qg9K8uWhCWRwH4m2laDlYXTGWU/XLjU4VVZ1cBduaYNXEubuA6OjIiFu6FYZ\n",
       "v3UDa5mS57qnktvEj7fpbQd0ilu23EmTbAhDBlqZmoaLr6qLR37xKZn8NfL1Wi3JB+Rixdql+2lG\n",
       "r1ejTC6WztUP1jATYhQp+jUoiLmBLuvr51OGY+SIGRCfSi8l+cxoWd9iM1w5oUVbn1YAFW4jBQAA\n",
       "AOFBmiJsQv/+jLCE4nJznwA9kmHaypyCQ6+AAAEbcbaplgEp/pMbFFQAtwx+FHw3UZ8id6YUiPJZ\n",
       "rThr7E6Guc3VwbSa3VoJZwFtu9svyXmeRqVioqJ5hIzBkwr6tGfWH4pwPahq+ZpqJLHzAL84rCXV\n",
       "M/zzZCf+HLB9Xo0d43hf3YG5kWnDYRJsNycUDXztGmPTpTz+CJ8ip+g80Vs0JnR1lJ8Qusxp4GWn\n",
       "B5T0xlpp+56lBIvDHHWUtNkc+wSOGg9fO8SQeMEgpwlYUB8JC5X2RKTLxuTGlSEKqUekKvTj+Y4A\n",
       "AAAsAZ5BeR//B+SKMopKpBcAAAMCENVMsB1fUCDbLCNqhP1PxFt9IiOZ4d8x1A0AAABaQZpDPCGT\n",
       "KYQv//6MsAAb73tZEZ59kAOMg2bWiFxf5CMcbMoOucim05AJuIK83PCq4ORcQbiwoCYqgPTzMOfi\n",
       "0DHxtctCZgL1zZYjUWnRplZL0MhHEKLYzMQMAAAANkGaZknhDyZTAhf//oywABs0d4OXAL4cvq6Z\n",
       "XV00CCXFQbj8PsotXJx0Qjb7N86imY5n7wQ0ZQAAACJBnoRFETwj/wAIpoRaAWbiFBqFMgtEufR3\n",
       "Atuirx1Vi6aBAAAAGAGepWpH/wANyFeBo8JE5WL2PeUfjkM4QQAAACNBmqlJqEFomUwIX//+jLAA\n",
       "GoWNVls4LppYkEak9M0oj1ueUQAAABhBnsdFESwj/wAIavB5+PNhIaa0uyB83rkAAAARAZ7oakf/\n",
       "AA1+MBjDZPqxjnAAAAArQZrtSahBbJlMCF///oywABqP/xWlIG0wAgUjwZOwb9/WcmAa/ijDrVkq\n",
       "YQAAABZBnwtFFSwj/wAIbptA8qpUj2+6iqPgAAAAEwGfKnRH/wANhLcMU/cTBEuPqXAAAAATAZ8s\n",
       "akf/AA2D7SHrMPpe4J3WUQAAAC5BmzBJqEFsmUwIX//+jLAAGq1p9YIzpPawMMaXY/7qiL3ISBP+\n",
       "eRODjYk7WoMLAAAAFUGfTkUVLCP/AAhr+IkoX1UoT8UL8QAAABEBn29qR/8ADS4wGMNk/BGOcAAA\n",
       "ABpBm3JJqEFsmUwUTC///oywABnqPp05hrgUMAAAABEBn5FqR/8ADS4wGMNk/CASqQAAADFBm5VJ\n",
       "4QpSZTAhf/6MsAAZ5ZtTkQRIAG6ByJZHB1tf/k2/KI9gzKXeS7q4AjkfqiaAAAAAFkGfs0U0TCP/\n",
       "AAgur7daN3xogo2An4AAAAATAZ/Uakf/AA0z7T1YnPeVHWHwbQAAABlBm9hJqEFomUwIX//+jLAA\n",
       "GUWNVkjQYBTQAAAAE0Gf9kURLCP/AAfvHbj+6QmxtxUAAAARAZ4Xakf/AAzeMBjDZP1xjnEAAAAi\n",
       "QZocSahBbJlMCF///oywABlFmVO/qVL9H9gzbrB6Y2BWxAAAABVBnjpFFSwj/wAH7x2kgt8muhUR\n",
       "Bk0AAAATAZ5ZdEf/AAzdG2dEO12RM7rygAAAABMBnltqR/8ADN4vsfpn6jcM9SXBAAAALEGaXkmo\n",
       "QWyZTBRML//+jLAAGUuwc2QFFIAFP6o/jHX6vTp5nHCvmNokhpyxAAAAEwGefWpH/wAM37HYILDa\n",
       "ZsZYsoAAAAAgQZphSeEKUmUwIX/+jLAAGKWNYbgB8WEeWM3YbPu1dOAAAAAWQZ6fRTRMI/8AB8Md\n",
       "uP7pDzda8YCAQQAAABEBnqBqR/8ADI4wGMNk/tGOcAAAACFBmqRJqEFomUwIX//+jLAAGLE/W83J\n",
       "AARFz4o2+aZv0BkAAAAXQZ7CRREsI/8AB8Mdqn61fyQgxqIyqKwAAAATAZ7jakf/AAyOL9DVRamj\n",
       "teOuwQAAAC5BmuZJqEFsmUwUTC///oywABi3DOtbgIzgAz1YW5kx1GdGkseUJQHvLXjC8w5XAAAA\n",
       "EwGfBWpH/wAMj7HYILDaZthYsoEAAAAhQZsJSeEKUmUwIX/+jLAAGAWNU7+pUv0f2DNusHuGrAE5\n",
       "AAAAF0GfJ0U0TCP/AAeXHbA6I14+AWnf1Rh0AAAAEwGfSGpH/wAMPi/tD4RkQJzKlUAAAAAlQZtM\n",
       "SahBaJlMCF///oywABgv795MOKdo67BEAAm+uoqVddyLGwAAABVBn2pFESwj/wAHlx2kgt8muhYx\n",
       "BkwAAAATAZ+Lakf/AAw+L9DVRamjumOuwAAAACNBm45JqEFsmUwUTC///oywABdqh2G4AZzPsUDE\n",
       "gS8GbsMfkQAAABEBn61qR/8AC+4wGMNlApJXOQAAAB1Bm7BJ4QpSZTBSwv/+jLAAF2p/WSNdAAFc\n",
       "JFT8gQAAAA8Bn89qR/8AC+4wGMNk3jAAAAAbQZvTSeEOiZTAhf/+jLAAF2qO0HSfXh4az2lJAAAA\n",
       "E0Gf8UUVPCP/AAdrIQkNO5NZPYEAAAARAZ4Sakf/AAvtqHg288qLYmAAAAApQZoVSahBaJlMFPC/\n",
       "/oywABePhxFc16ABVS+/jBI+Vf62EPWHktfqUXAAAAARAZ40akf/AAvvv9vbwcVkfHEAAAAoQZo4\n",
       "SeEKUmUwIX/+jLAAFtqNUSapXGgA/9DliJyJPSYj99842dNaOAAAABNBnlZFNEwj/wAHPx2wOiNe\n",
       "PfsXAAAAEQGed2pH/wALoQA+TvQJBlZRAAAAJ0Gae0moQWiZTAhf//6MsAAW//ICTmqvEkzWbgAE\n",
       "3106ZTJyfKSLQgAAABNBnplFESwj/wAHPx2kgt8mugqZAAAAEQGeumpH/wALoI5j6FrMi2NgAAAA\n",
       "GkGavUmoQWyZTBRML//+jLAAFkqHVkjQYBeRAAAADwGe3GpH/wALXc+RxtVn5QAAAB5Bmt9J4QpS\n",
       "ZTBSwv/+jLAAFkp/huAGdB60JiLMMhYAAAAPAZ7+akf/AAtZAGIOVTdwAAAAHkGa4knhDomUwIX/\n",
       "/oywABZKjVEmqVcs/VNy2dH2rQAAABNBnwBFFTwj/wAHEx2kgt8mugrYAAAAEQGfIWpH/wALWQAl\n",
       "v2eVFsjBAAAAHEGbJEmoQWiZTBTwv/6MsAAWb4bCXSjI9Z8bFXEAAAAQAZ9Dakf/AAtaW96UVfTb\n",
       "IwAAACFBm0ZJ4QpSZTBSwv/+jLAAFdDaIXoKVRP2gBS+3BnggYMAAAAPAZ9lakf/AAsRAGIOVTgR\n",
       "AAAAI0GbaknhDomUwIX//oywABXfhsKk6e4dal4MokZTRVYaIQXBAAAAE0GfiEUVPCP/AAbn27xC\n",
       "3ya6CygAAAARAZ+ndEf/AAsP45nFozOB+kAAAAARAZ+pakf/AAsQjmPoWsyLZWEAAAAZQZusSahB\n",
       "aJlMFPC//oywABUqf1kjQYBjQAAAAA8Bn8tqR/8ACskAYg5VOLAAAAAeQZvOSeEKUmUwUsL//oyw\n",
       "ABUqh2cEAQ45z0Q7NlUbAAAADwGf7WpH/wAKyQBiDlU4sQAAACRBm/FJ4Q6JlMCF//6MsAAVKo1R\n",
       "JqleqgIHJwUFQC/vvnRK/sEAAAATQZ4PRRU8I/8ABr/bvELfJroLaAAAABMBnjBqR/8ACskAJb9n\n",
       "lRdVPpPAAAAAH0GaNEmoQWiZTAhf//6MsAAVT4bCg8ozqziKSP9Sm4EAAAAWQZ5SRREsI/8ABsCZ\n",
       "Tj0FihFkevLmQAAAABEBnnNqR/8ACoEAYg5VZX8xEAAAACxBmnZJqEFsmUwUTC///oywABSaheG4\n",
       "AVTOrwsoog5nyqtcCLV2efFM5lcEgQAAABQBnpVqR/8ACnvJjZQWXQ63Wn7f4AAAACNBmplJ4QpS\n",
       "ZTAhf/6MsAAUv4bCg8o0O4sfNotZywAwgmJFywAAABVBnrdFNEwj/wAGl9u8Qt8muh/KbjMAAAAT\n",
       "AZ7Yakf/AAqBACW/Z5UXWj6TwAAAABlBmtxJqEFomUwIX//+jLAAFAqNVkjQYBoRAAAAE0Ge+kUR\n",
       "LCP/AAZv29C+6Q83WPEAAAARAZ8bakf/AAo5AGIOVWd/MREAAAAmQZsASahBbJlMCFf//jhAAE09\n",
       "NbJz5gAaVqmzKoPj7vjrcIN7shUAAAAVQZ8+RRUsI/8ABm/bvELfJrogxoRkAAAAEwGfXXRH/wAK\n",
       "N+P5rdTuyLzqj8AAAAATAZ9fakf/AAo5ACW/Z5UXX7RTwQAAABpBm0NJqEFsmUwI//yEAASb2/tn\n",
       "hJBO+6gBHwAAABVBn2FFFSwj/wAGcJlOPQWKEWq7CMkAAAARAZ+Cakf/AAnxAGIOVWl/MRAAAAdO\n",
       "bW9vdgAAAGxtdmhkAAAAAAAAAAAAAAAAAAAD6AAAB9AAAQAAAQAAAAAAAAAAAAAAAAEAAAAAAAAA\n",
       "AAAAAAAAAAABAAAAAAAAAAAAAAAAAABAAAAAAAAAAAAAAAAAAAAAAAAAAAAAAAAAAAAAAAAAAgAA\n",
       "Bnh0cmFrAAAAXHRraGQAAAADAAAAAAAAAAAAAAABAAAAAAAAB9AAAAAAAAAAAAAAAAAAAAAAAAEA\n",
       "AAAAAAAAAAAAAAAAAAABAAAAAAAAAAAAAAAAAABAAAAAAbAAAAEgAAAAAAAkZWR0cwAAABxlbHN0\n",
       "AAAAAAAAAAEAAAfQAAACAAABAAAAAAXwbWRpYQAAACBtZGhkAAAAAAAAAAAAAAAAAAAyAAAAZABV\n",
       "xAAAAAAALWhkbHIAAAAAAAAAAHZpZGUAAAAAAAAAAAAAAABWaWRlb0hhbmRsZXIAAAAFm21pbmYA\n",
       "AAAUdm1oZAAAAAEAAAAAAAAAAAAAACRkaW5mAAAAHGRyZWYAAAAAAAAAAQAAAAx1cmwgAAAAAQAA\n",
       "BVtzdGJsAAAAs3N0c2QAAAAAAAAAAQAAAKNhdmMxAAAAAAAAAAEAAAAAAAAAAAAAAAAAAAAAAbAB\n",
       "IABIAAAASAAAAAAAAAABAAAAAAAAAAAAAAAAAAAAAAAAAAAAAAAAAAAAAAAAAAAAGP//AAAAMWF2\n",
       "Y0MBZAAe/+EAGGdkAB6s2UGwloQAAAMABAAAAwGQPFi2WAEABmjr48siwAAAABx1dWlka2hA8l8k\n",
       "T8W6OaUbzwMj8wAAAAAAAAAYc3R0cwAAAAAAAAABAAAAZAAAAQAAAAAUc3RzcwAAAAAAAAABAAAA\n",
       "AQAAAqBjdHRzAAAAAAAAAFIAAAABAAACAAAAAAEAAAMAAAAAAQAAAQAAAAABAAACAAAAAAEAAAQA\n",
       "AAAAAgAAAQAAAAABAAAEAAAAAAIAAAEAAAAAAQAABQAAAAABAAACAAAAAAEAAAAAAAAAAQAAAQAA\n",
       "AAABAAAEAAAAAAIAAAEAAAAAAQAAAwAAAAABAAABAAAAAAEAAAQAAAAAAgAAAQAAAAABAAAEAAAA\n",
       "AAIAAAEAAAAAAQAABQAAAAABAAACAAAAAAEAAAAAAAAAAQAAAQAAAAABAAADAAAAAAEAAAEAAAAA\n",
       "AQAABAAAAAACAAABAAAAAAEAAAQAAAAAAgAAAQAAAAABAAADAAAAAAEAAAEAAAAAAQAABAAAAAAC\n",
       "AAABAAAAAAEAAAQAAAAAAgAAAQAAAAABAAADAAAAAAEAAAEAAAAAAQAAAwAAAAABAAABAAAAAAEA\n",
       "AAQAAAAAAgAAAQAAAAABAAADAAAAAAEAAAEAAAAAAQAABAAAAAACAAABAAAAAAEAAAQAAAAAAgAA\n",
       "AQAAAAABAAADAAAAAAEAAAEAAAAAAQAAAwAAAAABAAABAAAAAAEAAAQAAAAAAgAAAQAAAAABAAAD\n",
       "AAAAAAEAAAEAAAAAAQAAAwAAAAABAAABAAAAAAEAAAUAAAAAAQAAAgAAAAABAAAAAAAAAAEAAAEA\n",
       "AAAAAQAAAwAAAAABAAABAAAAAAEAAAMAAAAAAQAAAQAAAAABAAAEAAAAAAIAAAEAAAAAAQAABAAA\n",
       "AAACAAABAAAAAAEAAAMAAAAAAQAAAQAAAAABAAAEAAAAAAIAAAEAAAAAAQAABAAAAAACAAABAAAA\n",
       "AAEAAAUAAAAAAQAAAgAAAAABAAAAAAAAAAEAAAEAAAAAAQAABAAAAAACAAABAAAAABxzdHNjAAAA\n",
       "AAAAAAEAAAABAAAAZAAAAAEAAAGkc3RzegAAAAAAAAAAAAAAZAAACZ4AAADlAAAAMAAAAF4AAAA6\n",
       "AAAAJgAAABwAAAAnAAAAHAAAABUAAAAvAAAAGgAAABcAAAAXAAAAMgAAABkAAAAVAAAAHgAAABUA\n",
       "AAA1AAAAGgAAABcAAAAdAAAAFwAAABUAAAAmAAAAGQAAABcAAAAXAAAAMAAAABcAAAAkAAAAGgAA\n",
       "ABUAAAAlAAAAGwAAABcAAAAyAAAAFwAAACUAAAAbAAAAFwAAACkAAAAZAAAAFwAAACcAAAAVAAAA\n",
       "IQAAABMAAAAfAAAAFwAAABUAAAAtAAAAFQAAACwAAAAXAAAAFQAAACsAAAAXAAAAFQAAAB4AAAAT\n",
       "AAAAIgAAABMAAAAiAAAAFwAAABUAAAAgAAAAFAAAACUAAAATAAAAJwAAABcAAAAVAAAAFQAAAB0A\n",
       "AAATAAAAIgAAABMAAAAoAAAAFwAAABcAAAAjAAAAGgAAABUAAAAwAAAAGAAAACcAAAAZAAAAFwAA\n",
       "AB0AAAAXAAAAFQAAACoAAAAZAAAAFwAAABcAAAAeAAAAGQAAABUAAAAUc3RjbwAAAAAAAAABAAAA\n",
       "LAAAAGJ1ZHRhAAAAWm1ldGEAAAAAAAAAIWhkbHIAAAAAAAAAAG1kaXJhcHBsAAAAAAAAAAAAAAAA\n",
       "LWlsc3QAAAAlqXRvbwAAAB1kYXRhAAAAAQAAAABMYXZmNTguMjkuMTAw\n",
       "\">\n",
       "  Your browser does not support the video tag.\n",
       "</video>"
      ],
      "text/plain": [
       "<IPython.core.display.HTML object>"
      ]
     },
     "execution_count": 226,
     "metadata": {},
     "output_type": "execute_result"
    }
   ],
   "source": [
    "#Display\n",
    "HTML(anim.to_html5_video())"
   ]
  },
  {
   "cell_type": "code",
   "execution_count": 300,
   "metadata": {},
   "outputs": [],
   "source": [
    "#Interactive\n",
    "#HTML(anim.to_jshtml())"
   ]
  },
  {
   "cell_type": "code",
   "execution_count": null,
   "metadata": {},
   "outputs": [],
   "source": []
  }
 ],
 "metadata": {
  "kernelspec": {
   "display_name": "Python 2",
   "language": "python",
   "name": "python2"
  },
  "language_info": {
   "codemirror_mode": {
    "name": "ipython",
    "version": 2
   },
   "file_extension": ".py",
   "mimetype": "text/x-python",
   "name": "python",
   "nbconvert_exporter": "python",
   "pygments_lexer": "ipython2",
   "version": "2.7.16"
  }
 },
 "nbformat": 4,
 "nbformat_minor": 2
}
