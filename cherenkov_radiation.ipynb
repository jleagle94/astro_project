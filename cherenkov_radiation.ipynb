{
 "cells": [
  {
   "cell_type": "markdown",
   "metadata": {},
   "source": [
    "We explore Cherenkov Radiation for this project. Cherenkov Radiation results from a charged particle that moves with a speed greater than the speed of light **through that particular medium**. i.e.\n",
    "\n",
    "$v_{par} > \\frac{c}{n}$\n",
    "\n",
    "In astrophysics, this is why the precise direction of the radiation gives us energy measurements! The radiation is a rapid energy-loss mechanism of the charged particle.\n",
    "\n",
    "We will simulate spectra for Cherenkov radiation under different parameters."
   ]
  },
  {
   "cell_type": "markdown",
   "metadata": {},
   "source": [
    "We will assume the Frank-Tamm formula for the frequency spectrum resulting from a charged particle moving relativistically along the $x$ axis in a medium with refraction index $n$. For material on the derivation of this formula see Jackson (EM book) and many online resources. "
   ]
  },
  {
   "cell_type": "markdown",
   "metadata": {},
   "source": [
    "Frequency spectrum:\n",
    "\n",
    "$\\frac{dE}{dx} = \\frac{q^2 \\mu}{4\\pi}(1-\\frac{1}{\\beta^2n^2}) \\nu d\\nu$"
   ]
  },
  {
   "cell_type": "markdown",
   "metadata": {},
   "source": [
    "Let's get this in the form of $\\nu F_{\\nu}$ form. "
   ]
  },
  {
   "cell_type": "markdown",
   "metadata": {},
   "source": [
    "We have $\\frac{dE}{dx}$ but we want $\\nu F_{\\nu}$. We note that $dx = \\frac{c}{n} dt$ therefore\n",
    "\n",
    "$\\frac{dE}{dx} = \\frac{1}{c} \\frac{dE}{dt}$\n",
    "\n",
    "Which is power. $P = \\frac{dE}{dt}$"
   ]
  },
  {
   "cell_type": "markdown",
   "metadata": {},
   "source": [
    "Next we note $P = \\frac{4\\pi L_\\nu}{V}$ where $L_\\nu$ is the luminosity at a given $\\nu$ and $V$ is the volume. We also note that $L_\\nu = F_\\nu A$ where $A$ is the area."
   ]
  },
  {
   "cell_type": "markdown",
   "metadata": {},
   "source": [
    "Therefore,\n",
    "\n",
    "$P = \\frac{dE}{dt} = \\frac{ 4\\pi F_\\nu A}{V}$\n",
    "\n",
    "$V=AL$\n",
    "\n",
    "$P = \\frac{dE}{dt} = \\frac{ 4\\pi F_\\nu}{L}$"
   ]
  },
  {
   "cell_type": "markdown",
   "metadata": {},
   "source": [
    "Where $L$ is the distance travelled by the moving charged particle. This would be an input parameter."
   ]
  },
  {
   "cell_type": "markdown",
   "metadata": {},
   "source": [
    "Moving things around, we see that $F_\\nu$ becomes\n",
    "\n",
    "$F_\\nu = \\frac{L}{4\\pi} \\bigg[\\frac{q^2 \\mu}{4\\pi}(1-\\frac{1}{\\beta^2n^2}) \\nu d\\nu \\bigg]$"
   ]
  },
  {
   "cell_type": "markdown",
   "metadata": {},
   "source": [
    "To get the form we are looking for, we multiply a fancy one to the right hand side, i.e. $\\frac{\\nu}{\\nu}$:\n",
    "    \n",
    "$F_\\nu = \\frac{q^2 \\mu \\ln(10)}{(4\\pi)^2} (1-\\frac{1}{\\beta^2n^2}) L \\nu^2 d(\\log(\\nu))$"
   ]
  },
  {
   "cell_type": "markdown",
   "metadata": {},
   "source": [
    "And finally, multiply by one more $\\nu$:\n",
    "    \n",
    "$\\nu F_\\nu = A(n) (1-\\frac{1}{\\beta^2n^2}) L \\nu^3 d(\\log(\\nu))$\n",
    "\n",
    "with A(n) = \\frac{q^2 \\mu \\ln(10)}{(4\\pi)^2}. A is a function of n because $\\mu$ is the magnetic permeability and depends on the material of which we propagate through. But since we are interested in only the Earth's atmosphere, we will simplify quite a bit in a moment."
   ]
  },
  {
   "cell_type": "markdown",
   "metadata": {},
   "source": [
    "So we see A(n) is just a constant in our simple model because $n=1$ in air, therefore $\\mu$ is a determined, unchanging quantity ($\\mu = 1.25\\times10^{-6} H/m$) and the rest are fundamental constants. So we note that $A(n) = A = 4.666\\times10^{-46} \\frac{C^2H}{m}$"
   ]
  },
  {
   "cell_type": "markdown",
   "metadata": {},
   "source": [
    "Now our equation looks like:\n",
    "    \n",
    "$\\nu F_\\nu = A (1-\\frac{1}{\\beta^2}) L \\nu^3 d(\\log(\\nu))$"
   ]
  },
  {
   "cell_type": "markdown",
   "metadata": {},
   "source": [
    "where $A$ is known, $\\beta$ and $L$ are input parameters, and we plot against some frequency range $[\\nu, \\nu+d\\nu]$"
   ]
  },
  {
   "cell_type": "markdown",
   "metadata": {},
   "source": [
    "Now let's plot for varying $\\beta$s and $L$s. "
   ]
  },
  {
   "cell_type": "markdown",
   "metadata": {},
   "source": [
    "Import necessary packages."
   ]
  },
  {
   "cell_type": "code",
   "execution_count": 54,
   "metadata": {},
   "outputs": [],
   "source": [
    "import matplotlib\n",
    "import matplotlib.pyplot as plt\n",
    "import numpy as np\n",
    "import math\n",
    "import scipy.integrate as integrate\n",
    "from scipy.integrate import quad"
   ]
  },
  {
   "cell_type": "markdown",
   "metadata": {},
   "source": [
    "Define your variables."
   ]
  },
  {
   "cell_type": "code",
   "execution_count": 92,
   "metadata": {},
   "outputs": [],
   "source": [
    "# remember beta must be < 1 for Cherenkov radiation to occur.\n",
    "beta = 1.012\n",
    "L = 100.0 #in meters because of the \\mu constant's dimensions.\n",
    "A = 4.66e-46 #in C^2*H/m. For n=1."
   ]
  },
  {
   "cell_type": "code",
   "execution_count": 93,
   "metadata": {},
   "outputs": [
    {
     "name": "stdout",
     "output_type": "stream",
     "text": [
      "[1.00000000e+22 2.78255940e+22 7.74263683e+22 2.15443469e+23\n",
      " 5.99484250e+23 1.66810054e+24 4.64158883e+24 1.29154967e+25\n",
      " 3.59381366e+25 1.00000000e+26]\n"
     ]
    }
   ],
   "source": [
    "#Our frequencies logarithmically spaced.\n",
    "v = np.logspace(22, 26, 10) #in Hz, from 100MeV and goes up to 2TeV.\n",
    "print v"
   ]
  },
  {
   "cell_type": "markdown",
   "metadata": {},
   "source": [
    "Integrate with these values to find $\\nu F_\\nu$ $y$ points over varying frequency bins."
   ]
  },
  {
   "cell_type": "code",
   "execution_count": 94,
   "metadata": {},
   "outputs": [
    {
     "name": "stdout",
     "output_type": "stream",
     "text": [
      "-1.29444444444e+63\n",
      "1.43712202632e+49\n"
     ]
    }
   ],
   "source": [
    "def integrand(v, beta): \n",
    "    return A*L*(1 - 1/(beta**(2)))*(v**(3))\n",
    "\n",
    "#Integrate over varying frequency bins for several data points.\n",
    "ans, err = quad(integrand, 2.41e22, 5.0e26, args=(beta,))\n",
    "print ans\n",
    "print err"
   ]
  },
  {
   "cell_type": "markdown",
   "metadata": {},
   "source": [
    "Plot."
   ]
  },
  {
   "cell_type": "code",
   "execution_count": 88,
   "metadata": {},
   "outputs": [
    {
     "data": {
      "text/plain": [
       "<matplotlib.collections.PathCollection at 0x114013890>"
      ]
     },
     "execution_count": 88,
     "metadata": {},
     "output_type": "execute_result"
    },
    {
     "data": {
      "image/png": "[encoded data removed]",
      "text/plain": [
       "<Figure size 432x288 with 1 Axes>"
      ]
     },
     "metadata": {
      "needs_background": "light"
     },
     "output_type": "display_data"
    }
   ],
   "source": [
    "x = v\n",
    "y = integrand(v,beta)\n",
    "plt.scatter([x],[y], marker = \"+\", label = \"Cherenkov light for beta=0.75, L=100 m\")"
   ]
  },
  {
   "cell_type": "code",
   "execution_count": null,
   "metadata": {},
   "outputs": [],
   "source": []
  }
 ],
 "metadata": {
  "kernelspec": {
   "display_name": "Python 2",
   "language": "python",
   "name": "python2"
  },
  "language_info": {
   "codemirror_mode": {
    "name": "ipython",
    "version": 2
   },
   "file_extension": ".py",
   "mimetype": "text/x-python",
   "name": "python",
   "nbconvert_exporter": "python",
   "pygments_lexer": "ipython2",
   "version": "2.7.16"
  }
 },
 "nbformat": 4,
 "nbformat_minor": 2
}
