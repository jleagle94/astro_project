{
 "cells": [
  {
   "cell_type": "markdown",
   "metadata": {},
   "source": [
    "We explore Cherenkov Radiation for this project. Cherenkov Radiation results from a charged particle that moves with a speed greater than the speed of light **through that particular medium**. i.e.\n",
    "\n",
    "$v_{par} > \\frac{c}{n}$\n",
    "\n",
    "In astrophysics, this is why the precise direction of the radiation gives us energy measurements! The radiation is a rapid energy-loss mechanism of the charged particle.\n",
    "\n",
    "We will simulate spectra for Cherenkov radiation under different parameters."
   ]
  },
  {
   "cell_type": "markdown",
   "metadata": {},
   "source": [
    "We will assume the Frank-Tamm formula for the frequency spectrum resulting from a charged particle moving relativistically along the $x$ axis in a medium with refraction index $n$. For material on the derivation of this formula see Jackson (EM book) and many online resources. "
   ]
  },
  {
   "cell_type": "markdown",
   "metadata": {},
   "source": [
    "Frequency spectrum:\n",
    "\n",
    "$\\frac{dE}{dx} = \\frac{q^2 \\mu}{4\\pi}(1-\\frac{1}{\\beta^2n^2}) \\nu d\\nu$"
   ]
  },
  {
   "cell_type": "markdown",
   "metadata": {},
   "source": [
    "Let's get this in the form of $\\nu F_{\\nu}$ form. "
   ]
  },
  {
   "cell_type": "markdown",
   "metadata": {},
   "source": [
    "We have $\\frac{dE}{dx}$ but we want $\\nu F_{\\nu}$. We note that $dx = \\frac{c}{n} dt$ therefore\n",
    "\n",
    "$\\frac{dE}{dx} = \\frac{n}{c} \\frac{dE}{dt}$\n",
    "\n",
    "Which is power. $P = \\frac{dE}{dt}$"
   ]
  },
  {
   "cell_type": "markdown",
   "metadata": {},
   "source": [
    "Next we note $P = \\frac{4\\pi L_\\nu}{V}$ where $L_\\nu$ is the luminosity at a given $\\nu$ and $V$ is the volume. We also note that $L_\\nu = F_\\nu A$ where $A$ is the area."
   ]
  },
  {
   "cell_type": "markdown",
   "metadata": {},
   "source": [
    "Therefore,\n",
    "\n",
    "$P = \\frac{dE}{dt} = \\frac{ 4\\pi F_\\nu A}{V}$\n",
    "\n",
    "$V=AL$\n",
    "\n",
    "$P = \\frac{dE}{dt} = \\frac{ 4\\pi F_\\nu}{L}$"
   ]
  },
  {
   "cell_type": "markdown",
   "metadata": {},
   "source": [
    "Where $L$ is the distance travelled by the moving charged particle. This would be an input parameter."
   ]
  },
  {
   "cell_type": "markdown",
   "metadata": {},
   "source": [
    "Moving things around, we see that $F_\\nu$ becomes\n",
    "\n",
    "$F_\\nu = \\frac{c L}{4\\pi n} \\bigg[\\frac{q^2 \\mu}{4\\pi}(1-\\frac{1}{\\beta^2n^2}) \\nu d\\nu \\bigg]$"
   ]
  },
  {
   "cell_type": "markdown",
   "metadata": {},
   "source": [
    "To get the form we are looking for, we multiply a fancy one to the right hand side, i.e. $\\frac{\\nu}{\\nu}$:\n",
    "    \n",
    "$F_\\nu = \\frac{q^2 c \\mu \\ln(10)}{(4\\pi )^2 n} (1-\\frac{1}{\\beta^2n^2}) L \\nu^2 d(\\log(\\nu))$"
   ]
  },
  {
   "cell_type": "markdown",
   "metadata": {},
   "source": [
    "And finally, multiply by one more $\\nu$:\n",
    "    \n",
    "$\\nu F_\\nu = A(n) (1-\\frac{1}{\\beta^2n^2}) L \\nu^3 d(\\log(\\nu))$\n",
    "\n",
    "with $A(n) = \\frac{q^2 c \\mu \\ln(10)}{(4\\pi)^2 n}$. A is a function of n because $\\mu$ is the magnetic permeability and depends on the material of which we propagate through. But since we are interested in only interactions in water, we will simplify quite a bit in a moment."
   ]
  },
  {
   "cell_type": "markdown",
   "metadata": {},
   "source": [
    "So we see $A(n)$ is just a constant in our simple model because $n=1.333$ in water, therefore $\\mu$ is a determined, unchanging quantity ($\\mu = 1.25\\times10^{-6} H/m$) and the rest are fundamental constants. So we note that $A(n=1.33) = A = 1.05248\\times10^{-37} \\frac{C^2H}{m}$"
   ]
  },
  {
   "cell_type": "markdown",
   "metadata": {},
   "source": [
    "Now our equation looks like:\n",
    "    \n",
    "$\\nu F_\\nu = A (1-\\frac{1}{\\beta^2 n^2}) L \\nu^3 d(\\log(\\nu))$"
   ]
  },
  {
   "cell_type": "markdown",
   "metadata": {},
   "source": [
    "where $A$ is known, $\\beta$ and $L$ are input parameters, and we plot against some frequency range $[\\nu, \\nu+d\\nu]$"
   ]
  },
  {
   "cell_type": "markdown",
   "metadata": {},
   "source": [
    "Now let's plot for varying $\\beta$s and $L$s and $n$s. "
   ]
  },
  {
   "cell_type": "markdown",
   "metadata": {},
   "source": [
    "Import necessary packages."
   ]
  },
  {
   "cell_type": "code",
   "execution_count": 1,
   "metadata": {},
   "outputs": [],
   "source": [
    "import matplotlib\n",
    "import matplotlib.pyplot as plt\n",
    "import numpy as np\n",
    "import math\n",
    "import scipy.integrate as integrate\n",
    "from scipy.integrate import quad"
   ]
  },
  {
   "cell_type": "markdown",
   "metadata": {},
   "source": [
    "Define your variables."
   ]
  },
  {
   "cell_type": "code",
   "execution_count": 2,
   "metadata": {},
   "outputs": [
    {
     "name": "stdout",
     "output_type": "stream",
     "text": [
      "1.0501154406272732e-37\n"
     ]
    }
   ],
   "source": [
    "# remember beta must be < 1 for Cherenkov radiation to occur but greater than 1/n which is 0.7518.\n",
    "beta = 0.77777 #must be greater than 0.7518\n",
    "L = 1e-3 #in meters because of the \\mu constant's dimensions.\n",
    "q = 1.6e-19 #fundamental charge.\n",
    "n = 1.333\n",
    "c = 3e8 # m/s\n",
    "mu = 1.25e-6 #mu which is pretty much constant in most material.\n",
    "A = q**2*c*mu*np.log(10)/(n*(4*np.pi)**2) #in C^2*H/m.\n",
    "print A"
   ]
  },
  {
   "cell_type": "code",
   "execution_count": 3,
   "metadata": {},
   "outputs": [
    {
     "name": "stdout",
     "output_type": "stream",
     "text": [
      "[1.00000000e+22 2.78255940e+22 7.74263683e+22 2.15443469e+23\n",
      " 5.99484250e+23 1.66810054e+24 4.64158883e+24 1.29154967e+25\n",
      " 3.59381366e+25 1.00000000e+26]\n"
     ]
    }
   ],
   "source": [
    "#Our frequencies logarithmically spaced.\n",
    "v = np.logspace(22, 26, num=10, base=10) #in Hz, from 100MeV and goes up to 2TeV.\n",
    "# ln(10)log(x)=ln(x).... x = exp(ln(10)*log(x))\n",
    "print v"
   ]
  },
  {
   "cell_type": "markdown",
   "metadata": {},
   "source": [
    "Integrate with these values to find $\\nu F_\\nu$ $y$ points over varying frequency bins."
   ]
  },
  {
   "cell_type": "code",
   "execution_count": 4,
   "metadata": {},
   "outputs": [
    {
     "name": "stdout",
     "output_type": "stream",
     "text": [
      "1.17944858206e-37\n",
      "1.30945097216e-51\n"
     ]
    }
   ],
   "source": [
    "def integrand(v, beta): \n",
    "    return A*L*(1 - 1/(beta**(2)*(n)**2))*(v**(3))\n",
    "\n",
    "#Integrate over the varying frequency bins for several data points (stored in v).\n",
    "ans, err = quad(integrand, np.log10(2.41e22), np.log10(5.0e23), args=(beta,))\n",
    "print ans\n",
    "print err"
   ]
  },
  {
   "cell_type": "markdown",
   "metadata": {},
   "source": [
    "Plot."
   ]
  },
  {
   "cell_type": "code",
   "execution_count": 5,
   "metadata": {},
   "outputs": [
    {
     "name": "stdout",
     "output_type": "stream",
     "text": [
      "y=69005254452.072235x+(-309907319681162880167547089050402816.000000)\n"
     ]
    },
    {
     "data": {
      "image/png": "[encoded data removed]",
      "text/plain": [
       "<Figure size 432x288 with 1 Axes>"
      ]
     },
     "metadata": {
      "needs_background": "light"
     },
     "output_type": "display_data"
    }
   ],
   "source": [
    "x = v\n",
    "y = integrand(v,beta)\n",
    "plt.scatter([x],[y], marker = \".\", label = \"Cherenkov light for beta=0.7777, L=100 m\")\n",
    "plt.xscale('log')\n",
    "plt.yscale('log')\n",
    "#plt.xlim([2e-1,1e4])\n",
    "#plt.ylim([1e-15,5e-10])\n",
    "plt.ylabel('nu F_nu (erg/cm^2/s)')\n",
    "plt.xlabel('nu (Hz)')\n",
    "plt.title('Spectral distribution for a particle radiating Cherenkov light,  moving at beta=0.7777 and travels 10.0 m.')\n",
    "# plot the data itself\n",
    "import pylab\n",
    "#pylab.plot(x,y,'o')\n",
    "\n",
    "# calc the trendline\n",
    "z = np.polyfit(x, y, 1)\n",
    "p = np.poly1d(z)\n",
    "pylab.plot(x,p(x),\"r--\")\n",
    "# the line equation:\n",
    "print \"y=%.6fx+(%.6f)\"%(z[0],z[1])"
   ]
  },
  {
   "cell_type": "markdown",
   "metadata": {},
   "source": [
    "What's happening lol? \n",
    "\n",
    "Now let's focus on making a movie of Cherenkov light from a moving charged particle.\n",
    "\n",
    "Import packages:"
   ]
  },
  {
   "cell_type": "code",
   "execution_count": 515,
   "metadata": {},
   "outputs": [],
   "source": [
    "%matplotlib inline\n",
    "import numpy as np\n",
    "import matplotlib.pyplot as plt\n",
    "from matplotlib import animation, rc\n",
    "from IPython.display import HTML"
   ]
  },
  {
   "cell_type": "markdown",
   "metadata": {},
   "source": [
    "Set up the figure and axes. Line, particle, and circle are the elements we want to animate."
   ]
  },
  {
   "cell_type": "code",
   "execution_count": 521,
   "metadata": {},
   "outputs": [
    {
     "data": {
      "image/png": "[encoded data removed]",
      "text/plain": [
       "<Figure size 432x288 with 1 Axes>"
      ]
     },
     "metadata": {
      "needs_background": "light"
     },
     "output_type": "display_data"
    }
   ],
   "source": [
    "fig, ax = plt.subplots()\n",
    "Nframes = 100\n",
    "ax.set_xlim((0, 10))\n",
    "ax.set_ylim((0, 10))\n",
    "\n",
    "\n",
    "plt.xlabel('time', fontsize=12)\n",
    "plt.ylabel('x position', fontsize=12)\n",
    "circ = plt.Circle((0, 5), radius=1.0, facecolor=\"None\", edgecolor='k', lw=3)\n",
    "ax.add_artist(circ)\n",
    "line, = ax.plot([], [], lw=1)\n",
    "particle, = ax.plot([], [], marker='o', ms=7, color='blue')\n",
    "circle, = ax.plot([], [], marker='o', ms=10, color='red')"
   ]
  },
  {
   "cell_type": "markdown",
   "metadata": {},
   "source": [
    "Define intial function. "
   ]
  },
  {
   "cell_type": "code",
   "execution_count": 522,
   "metadata": {},
   "outputs": [],
   "source": [
    "def init():\n",
    "    circle.set_data([], [])\n",
    "    particle.set_data([], [])\n",
    "    line.set_data([],[])\n",
    "    return circle, particle, line,"
   ]
  },
  {
   "cell_type": "markdown",
   "metadata": {},
   "source": [
    "Insert the motion of Cherenkov light. "
   ]
  },
  {
   "cell_type": "code",
   "execution_count": 523,
   "metadata": {},
   "outputs": [],
   "source": [
    "def animate(i):\n",
    "    t = 2*np.pi*float(i/(Nframes-1.))\n",
    "    t_total = np.linspace(0, 2.*np.pi, Nframes)\n",
    "    x = 1*t\n",
    "    y = 5\n",
    "    rad = 3e8*t\n",
    "    x_circ = 2*np.pi*3e8*t\n",
    "    circle.set_data([x_circ], [5])\n",
    "    line.set_data([0,10],[5])\n",
    "    particle.set_data(x,y)\n",
    "    return circle, particle, line,"
   ]
  },
  {
   "cell_type": "code",
   "execution_count": 524,
   "metadata": {},
   "outputs": [],
   "source": [
    "#Compile\n",
    "anim = animation.FuncAnimation(fig, animate, init_func=init,\n",
    "                               frames=150, interval=20, \n",
    "                               blit=True)"
   ]
  },
  {
   "cell_type": "code",
   "execution_count": 525,
   "metadata": {},
   "outputs": [
    {
     "data": {
      "text/html": [
       "<video width=\"432\" height=\"288\" controls autoplay loop>\n",
       "  <source type=\"video/mp4\" src=\"data:video/mp4;base64,AAAAHGZ0eXBNNFYgAAACAGlzb21pc28yYXZjMQAAAAhmcmVlAAAhc21kYXQAAAKgBgX//5zcRem9\n",
       "5tlIt5Ys2CDZI+7veDI2NCAtIGNvcmUgMTU3IC0gSC4yNjQvTVBFRy00IEFWQyBjb2RlYyAtIENv\n",
       "cHlsZWZ0IDIwMDMtMjAxOCAtIGh0dHA6Ly93d3cudmlkZW9sYW4ub3JnL3gyNjQuaHRtbCAtIG9w\n",
       "dGlvbnM6IGNhYmFjPTEgcmVmPTMgZGVibG9jaz0xOjA6MCBhbmFseXNlPTB4MzoweDExMyBtZT1o\n",
       "ZXggc3VibWU9NyBwc3k9MSBwc3lfcmQ9MS4wMDowLjAwIG1peGVkX3JlZj0xIG1lX3JhbmdlPTE2\n",
       "IGNocm9tYV9tZT0xIHRyZWxsaXM9MSA4eDhkY3Q9MSBjcW09MCBkZWFkem9uZT0yMSwxMSBmYXN0\n",
       "X3Bza2lwPTEgY2hyb21hX3FwX29mZnNldD0tMiB0aHJlYWRzPTYgbG9va2FoZWFkX3RocmVhZHM9\n",
       "MSBzbGljZWRfdGhyZWFkcz0wIG5yPTAgZGVjaW1hdGU9MSBpbnRlcmxhY2VkPTAgYmx1cmF5X2Nv\n",
       "bXBhdD0wIGNvbnN0cmFpbmVkX2ludHJhPTAgYmZyYW1lcz0zIGJfcHlyYW1pZD0yIGJfYWRhcHQ9\n",
       "MSBiX2JpYXM9MCBkaXJlY3Q9MSB3ZWlnaHRiPTEgb3Blbl9nb3A9MCB3ZWlnaHRwPTIga2V5aW50\n",
       "PTI1MCBrZXlpbnRfbWluPTI1IHNjZW5lY3V0PTQwIGludHJhX3JlZnJlc2g9MCByY19sb29rYWhl\n",
       "YWQ9NDAgcmM9Y3JmIG1idHJlZT0xIGNyZj0yMy4wIHFjb21wPTAuNjAgcXBtaW49MCBxcG1heD02\n",
       "OSBxcHN0ZXA9NCBpcF9yYXRpbz0xLjQwIGFxPTE6MS4wMACAAAAIlWWIhAAr//72c3wKa0czlS4F\n",
       "dvdmo+XQkuX7EGD60AAAAwABqtY84Jzh1UCn7Mkz0YSGZBBjj5XJFKBksmbmJpf+FBqB8qTmkkTH\n",
       "3QHCFAl/i4AAKvQvBPevze04XDq8OsgCUWgqZ1KhaVotZCpJlKtB881FUHihuscKQ2Ik5yI0lPHe\n",
       "MKgGLusT158NK2qhd/GWf8UerPGX/F5exS99ILgTetyU+Ym7E52AX6+EtPKKbjCbPCntfK7Ql6il\n",
       "yH+b4lYxVExiqQchm2mUaUAA6kpKiPK2b3Up/WsknvfZu40Hbn2KmNn3e8IAa0Av77pQ/nscPJ7k\n",
       "mVIKKPBEXII/e2j+uRIp8CbS0kN+DQmIs8ZWwFLeSmaegAAg9wejQawuhGcdSEjjGFNT4zlc4N8+\n",
       "MaDKxnPd3F+zwACBwlu0YAOS+6N+aXBc38bwPsqqd+VwT7yRrCoq8HwO4hCk6kWZHO0QgXNUQQ3J\n",
       "slv9XvUvB1c5lrmIIYpRm+MMGPbdGC00v2mxDFnjDByE5Z2lZskR2OSUgF2hM2PFYWqFeP0msX5U\n",
       "El0O0jMjSbhEqaEr88OOxYjBNv7Pq+EJScu7o0Oj4ij2bAJwmOwcMvx1CZZxS+oop0nqwhidyymP\n",
       "Wo+cJS3WNKDtO6WQG6wjVQdWzMwnZwxXBbwV0DGSI7IhPIyEat5+mIJBbObbJSanHu/x1+baHQI+\n",
       "WVlh2N04nzY0295tjYUBnNKux7HxdQpfPD2Cht3B4a8wFDX/9TsAGkfyYTjEgFfx/S1PsQtfpQhn\n",
       "e05S22QcRZaOnwXOrOthmOjvv0pv5bZ3oZBWacyWXUVjGCDa2sOu6EtdRZ6zXKsrD92stOB7vgPX\n",
       "P3GDc80lP2qK0WmnGXgcapau7p3lUEnat7RfFlaga7+Qr1sdk5EtlLtvLWLjDdVmt6kKaF/dpLFv\n",
       "mA4/7tQ3oCYPh7skI8RxvwXXnEgETsu5KuIdasNcC/9BYGcLhueDyr0tx3kpcdggzwe3Xruz+8E7\n",
       "E7HOkGfH49t8AQ+PSoY4wX97uDOhcuxyTMKdShSN0mD4WWOgMlBK2PJrbNgVEnIVa/Q5fiebixOo\n",
       "3k0KKKddyZwGEytq2Mdb0rGwl1l8Su5qQgrIFNGgPA/7cnDfveyzax+t2ex+eCvu80rwaHyglTdK\n",
       "HcJly2O6HhDm1nzNV7Df+udSQTv7MNw8fzFy0s4BmID/ds4eZgJzh0CN4Qm1pSeJXdVQVP8XDMdv\n",
       "w8b1Y8Q4E5RTLUjO5DejHi/+6dNRk0p5unIgSmvZvQ9cnMCJsxHqRgyzTs8ZGCVLc9CKfMrkA4j6\n",
       "w6rByrRSdK76bLkLLK9hEO4y1h3c9/rMWU6XYoelfK9am6RVOYtTKd4XXrJNiaIPuuDdGM3RAifD\n",
       "Kv8bqWZslVbsXxE6znf/VP+LfzziMatxppmysMEtC/ApskeXUqp/aPAgKX6Rd5Rp+l4LAAC7AG9I\n",
       "bSwXq7I0d0YbqhaHXKlI46oHD0RpzMWCSw7/Pb1imXa+M1lh8L/p/vqi8DZyZAYwiFpRuV1/aKAa\n",
       "dvJA0FedAzVKmpQeNf2O5Ron0ZrCb4SV76hh6w6lx3vYBQ2Z0UbI7oMZ1Rivq0dywnqo4D49hAOT\n",
       "GxZQhr3lrL5WKiJDzGhoPx9AN+UlbtWqW8ri26OetAo5zy/WH+cor+4OcY/4CglXTppQ7J3fhzLB\n",
       "y5yhFSkwuH2GKb2FySr5b0k0T2IhOixwoEPLuxNFJDdSYg4RNvoafjX/8e0kajRHx+6iAbqHPhfE\n",
       "634vMPCoGGpGw+C5xHN1xfWdV1Gwpa9Xzw6g0MTKEGe+spgQHkAEEhhxpehXDTAHOWBnqlvHC5M6\n",
       "ZhFupPLmKV3z3BX69WWaqbHSRYEKOPM3+tTVt3jMzagKgDPB0XN8H+26RQkMesT/cRIALuLhWPhA\n",
       "CfJSLQTBAvYHLozT1VQONAZb5O5Y5SYtOlIkwDcUKFWYBLZWpCHpC0Ls+ni/sRgmVvQL0w9s6cME\n",
       "4a4Rd3pJtFeaRICdVTVE66efZqkOWVDsAG34BVz7K18oFe7CZWwZGmVM1bD/xjHgPWwIWPgzWXJD\n",
       "WR6axynewPjeFUX/BORszB6dUhiV7DyPSQZ/6ryEUFX/560JPZ8DlenkPDlPXPO2A12P8W94dSg0\n",
       "EHwZJ7JoaN7hIBhfNJj1tTjHyOUZkRCeUFpLMsGUREq+FChhBK4weD6jVOqUrPw/1RXGyO+wmS/d\n",
       "aOAVz0Kkz6FJ259qvcSQeWCGfN/YxxK1Y62mbytgknS4wZiqjo4thMuJtlk1HWZkktRXt57R4njD\n",
       "uWS0iblN3DrUBfqSz1YJIN1SuFwFtYAHwY61BIFobuQ0ADqof/n78qAG4FV79c1Axv0hunDDDRv5\n",
       "ZIJsGmfeRRu2OzebzgXP35mjAeYZJeWExRYHETNcuuT823la1QBQRqSFVg+tjY/Ccjwd4cPyvDQi\n",
       "DfU5Mwsg99qtbQB2sYpY+yNU7uVsOZ0NpNmXVnA3ZG/9SSBhFsUmGxkANO0i+zqc/NlK4UXG/l1y\n",
       "NFyfmDA/9yUiK2UrLXeX1MTIVIr9SaPYoqmxbgQKVTpLT107FktsXhASnnnqBO3x5MM2D76PGVy3\n",
       "pB84kZwKnFWD2mu4yUV4vciRE2UxfevVW3AGMbBAb29bt8uOwNlpV40aKZ6znm6lEBFnS+0VhqqP\n",
       "Mq7cyxFV2iP0bGPYdJZFAv4ACoic3mfqZg5V1sfIMJ/honY4/sHCWmlm264gjDN3uxbG876q9MKI\n",
       "6P4DBoS3YxG27ecl+KCU6HHCBTJ1YNn8zGy5AXrrIlg5VE9dgcdNyxBcFVou3lvMSr8lkd2HZNId\n",
       "h+q7d2xcclA90vrDMPpPpQkjj5ayDpejuNZNe1wzGv5TFWfbczbL/gilr6x1G6L5xalqG9LRHoL6\n",
       "7ZURlDwsOn7sgi0gE1EAAAFAQZohbEK//jhBnakS1nPsFQdXnrV4WwgAAAMACK0NtUywG7R7JIBB\n",
       "YfZ8qcp1MVNwUy4QgAyE66vwJmmChqddZBf0JklKjCJj9Ku5dU7O2Cci1loouerbYEHvmOolklzu\n",
       "c9YydxBoOhpQh6t7pCuqCIrDKGDs9eZXuR/8IW5IFw+Ut+d13Nip2NJ/912k3C6/Rwb5pHl9+b+L\n",
       "OuxS+kwFv3wwbWEFz/xTgs8QhxI5UVUDMNr0Qh3YznNdEkfHZUOHtQZqwMbCbJ3/zeCzXTNL/4A4\n",
       "u4U4J0+NgP4PaqD/IyYJHFMLJoWRA29NaDdzozJfT3N+4HRny7jJ9szzoK8wOtoan6+2U+0MGL1P\n",
       "jvY+Wfewjk7N29LuKaYsWQXRXfmuI+tyOYKJwwhdvzJGOVkKYBdBw3v/ZV8t6lz7A0hYSYgAAAB0\n",
       "QZpCPCGTKYQr//44QABsd3o/hAHdwQAIEu4mq3B/J6iD/kVKEULcytxf4WIjeqAPVOTbm8nFA8Ox\n",
       "sD2qHFvhvrNNqugVosK7Ey5HO8w0VFDnUYg4YWYZhUTxSCDTkw+Io39Cusb0BmF0M1Q2yK2DEVb9\n",
       "4PkAAABzQZpjSeEPJlMCF//+jLAAGyCxuG4SvEAH3juBrGR97kjrdbVvpdKCQwFjBC8rYIHCfvRe\n",
       "+Lk5IzE8WKcDEpF/jdLyx9Qgaq+rKXm7qia5xkJugV8OCPkbX9wmTUQy/7IKdNMlDJ0oZD/zRmNj\n",
       "2USLAZ2z4AAAAHtBmoZJ4Q8mUwIX//6MsAAbTSfPCjfCgCg2zp3BmBeu7+oDAQePWPXib17nGrr7\n",
       "9V+S+7Mqy5KtqGY52g4Pr/0GxPZwsNG4NlmT31QMLy0GnzFyiBcuS9GnQnOVX9gVe8IDcnJE3tAM\n",
       "v2uH9Ka9j3l+Raj9m8vC8Z6eLmEAAAAmQZ6kRRE8I/8ACKaEWdRiNzcXThqnn1sJvo1umpx9OnW0\n",
       "fAbEXc0AAAAZAZ7Fakf/AA3IV4DR397bQOSvGzvHhrlWfQAAADZBmshJqEFomUwU8L/+jLAAGyBq\n",
       "2uTvdLt8S119MAicqchjYFeEeQvn1c5i2VzR5A+8sPk6BpEAAAAbAZ7nakf/AA3PpdJDzMneBcAG\n",
       "SOb0yDmNlVfAAAAALEGa6knhClJlMFLC//6MsAAao3iTmQ5wlHQBE5U5DHpu/doRwTD49H39ibGg\n",
       "AAAAEwGfCWpH/wANeSR3zUOtMiVKYCEAAAB7QZsOSeEOiZTAhf/+jLAAGoBnxDQbjGANRDkXbKql\n",
       "2o5hmB/6cCdTHMBznp1o/78LxhVBDJcYgNwah457GGM7HBkErnTvXPYLgA/2mxnrAvl3rA+cWr+4\n",
       "QEzwZxSxuJiD7pbaUJhQK3AJAWrER+es7Lj9xH17dqwybiy8AAAAOEGfLEUVPCP/AAhjvG15xfAA\n",
       "2gcnhBzyotOld0iq/+n7Jf+vbnZ9thXXxf6wJkSIuGUg9fYwXUAYAAAAIAGfS3RH/wANdFcc3qQA\n",
       "Qm407Zp67t4QXifOaZ1l6UvBAAAAKwGfTWpH/wANeSR24NPABwRJ2pjx1FdaqlWQyNCl0epOfeD6\n",
       "auw0IcJ+TS8AAAB3QZtRSahBaJlMCF///oywABn5hkkhAAjElJtHwgTIiipNsNiK0U9v3QE/Rlfm\n",
       "BBdDnERVMmLpZt6/NC8XjXzOftrq5LXvZNLlUBZhDBnufwrQOahtudrV3K0rKOO9mtdoMzEMuY3v\n",
       "vM4cx0XDZFh/BiGakudYE9MAAAA2QZ9vRREsI/8ACBkvS1GwAczCv0v40AU+Szdlqdc88G+/TbjY\n",
       "xI2/wSkF1iVPzeyZAysxDO7gAAAAJgGfkGpH/wANKFeQrUADnCw69MqvToBCGOsLjiOGK1tWG8Pf\n",
       "D2aCAAAAhUGbk0moQWyZTBRML//+jLAAGfYaitcARKSlaHygIXX5kNC3+DTiD9kN2klRjUFp/tjl\n",
       "k/CstI8cfdvNNZaI06TPSxuRGiFPYJoZcFfdCJX/oNie3VsZdc0bP7tfJ9NyzWHdiW8TUVswqbR+\n",
       "snEKHdpO3mRepCV4omULvhygye2sM6j3kssAAAAkAZ+yakf/AA0oV4ujABzQqAVEgEJRmfWRu4XM\n",
       "1z4P8AE6WaZOAAAAVEGbtknhClJlMCF//oywABnxWVpJ22AKzdrfLB5s3TQai42ljbUnORAZIinn\n",
       "rctQyaCbyA/1gmnErOrqt2SPHj9FZ6DTzVJ4zo8n0e36HbVou6s58AAAADNBn9RFNEwj/wAINNIw\n",
       "AcztsWGCj1qhVdQwXpgTyp4r97TtZbuQpNq8shjK5u8/GdYAQbUAAAASAZ/1akf/AA0va/crLdqy\n",
       "KV+QAAAAIEGb+UmoQWiZTAhn//6eEAAZFeOfiAEqbpnHd8dxekHBAAAAF0GeF0URLCP/AAfvHbj+\n",
       "6u8vcRgw6doDAAAAEQGeOGpH/wAM3jAbFfW9bJZwAAAAbEGaPUmoQWyZTAhf//6MsAAZbVajgkMC\n",
       "uqAf6S+3Dd4S2uQkje58hbLTXgW7Jp0eUUNkAiyhNq2gAUs3n0ATnMBlmofZ3CBpx4sytbpaG7zI\n",
       "P7JiwXFNjYzBJyWVlHaO0EHuPFjXnU46B3cYhQAAABpBnltFFSwj/wAH7yOiWmeq9rCaliS7q2SB\n",
       "YQAAABQBnnp0R/8ADN0bYvPE0Li3B2HS5wAAABQBnnxqR/8ADN3BbCJ4X+CCRK7zNwAAABxBmmBJ\n",
       "qEFsmUwIX//+jLAAGKWNVkjQYIj9nXiMAAAAGEGenkUVLCP/AAfDHbj+6vrq3Q+wnbHtIQAAABEB\n",
       "nr9qR/8ADI4wGMNk/tGOcQAAACVBmqRJqEFsmUwIX//+jLAAGKWZU7+pUzpi1RAGheSUjKK6Dt7j\n",
       "AAAAGEGewkUVLCP/AAfDHaSC3ya+WM+QvxeRAwAAABQBnuF0R/8ADJS26SIfSZdTxCdU4AAAABMB\n",
       "nuNqR/8ADI4vsfpn6jcQ9SXBAAAAJ0Ga50moQWyZTAhf//6MsAAYq7CbZCBEgARr8PVJHTWb9oQo\n",
       "aMEWMwAAABhBnwVFFSwj/wAHw/jOPQWKHve60oxjwr0AAAARAZ8makf/AAw+MBjDZQB/NnEAAAAv\n",
       "QZsrSahBbJlMCF///oywABgFmVEoGgAz2mrYamrXwvfR7fw2x1/A1ICGKlEQjPAAAAAYQZ9JRRUs\n",
       "I/8AB5cdpILfJr54z5C/F5ECAAAAEwGfaHRH/wAMPRtnRDtdkTk68oEAAAATAZ9qakf/AAxD7TC6\n",
       "PruOLini9QAAAC5Bm25JqEFsmUwIX//+jLAAGC9xkpRaNDtm/mlr+J7dIE+gRACROgZMruwLoaHg\n",
       "AAAAGUGfjEUVLCP/AAeA6TPQNwSmrWt8GZMUMSMAAAASAZ+takf/AAw/sdggsNpm6ZmbAAAAKkGb\n",
       "skmoQWyZTAhf//6MsAAXaplRJr+nh+yaJ34hy4XFhXrfOVF7rv5MlQAAABpBn9BFFSwj/wAHax2k\n",
       "gt8mvpjPkMDvRMaUMAAAABMBn+90R/8AC/S3DFN9nSnfmZlAAAAAFAGf8WpH/wAL7i+x+mfqN1U+\n",
       "VAb7AAAAM0Gb9UmoQWyZTAhf//6MsAAXj4bClIKABG5fCw9vaix+h4HuX7TwOPUI26t0V2l8NkyQ\n",
       "cAAAABlBnhNFFSwj/wAHbc2IqTDnfRKg/OXfaqiAAAAAEwGeNGpH/wAL77/b2540ATxcmUEAAAAa\n",
       "QZo3SahBbJlMFEwv//6MsAAW2n9ZI0GAXEAAAAAUAZ5Wakf/AAuhAGIOX2Fo9+8XoYMAAAAqQZpb\n",
       "SeEKUmUwIX/+jLAAFtqZU7+/3mtV57oiE57p6DWN3XbaATv6nrv9AAAAGEGeeUU0TCP/AAc/HaSC\n",
       "3ya+td27CwJ+rwAAABMBnph0R/8AC6asA3uibQuOcFlBAAAAEwGemmpH/wALoQAMnFagdxz1JcAA\n",
       "AAAkQZqeSahBaJlMCF///oywABb/hsKUWjJIJ+nSgNXOpHfDkWhBAAAAGEGevEURLCP/AAc//U/Z\n",
       "E12OuM+FLxcBHwAAABEBnt1qR/8AC1kAYg5VU5QfUAAAACVBmsJJqEFsmUwIX//+jLAAFkqZUSa/\n",
       "3mtVztdd48jEOuvBRgfwAAAAGEGe4EUVLCP/AAcTHaSC3ya+2M+QvxeRAwAAABQBnx90R/8ACzeK\n",
       "nd6j28fouQjKFAAAABMBnwFqR/8AC1kADJxWoHchUXKBAAAAKEGbBUmoQWyZTAhf//6MsAAWb4bC\n",
       "lIKABGvw4mFADD38ozukMraQgmgAAAAYQZ8jRRUsI/8ABxP9T9kTXY7Yz4UvFwEfAAAAEQGfRGpH\n",
       "/wALFc+RxtVyH9qpAAAAKkGbSUmoQWyZTAhf//6MsAAVuplRJr/ea1XY4AGnUHNEV7dBMeArdq97\n",
       "gQAAABtBn2dFFSwj/wAG59u8Qt8mvvjPkMcOIrSViTEAAAATAZ+GdEf/AAsWrAlTfZ0p5xmZQAAA\n",
       "ABQBn4hqR/8ACxEADJxWoHg0erEY+wAAACpBm4xJqEFsmUwIX//+jLAAFd+GwoPJ6zbeE3z6Y6r8\n",
       "NIV1Cz/Tjadh5IEAAAAcQZ+qRRUsI/8ABuon1c64bkD6yPWRhtehTlFPUAAAABIBn8tqR/8ACxJb\n",
       "3pRV9NyXmZsAAAAtQZvOSahBbJlMFEwz//6eEAAVBRaQlbzf7l4dAJ5FODJZ+q1Xtv26QvW5/3w9\n",
       "AAAAGAGf7WpH/wAKyQA+TvQJEQkh5Xx0DECvwQAAAC9Bm/JJ4QpSZTAhf/6MsAAVT4i5A+WnYdta\n",
       "VdmalFl8JsONAhLJrOwN3LL53LYCsQAAABxBnhBFNEwj/wAGv9vCPrV/KRi+OK+hmPglU99gAAAA\n",
       "FQGeL3RH/wAKx+OZxaMzhFa0iz7FZgAAABMBnjFqR/8ACskAJb9nlRcqY67BAAAAIEGaNUmoQWiZ\n",
       "TAhf//6MsAAUmpNhuAG6nKPOvHGt/x3QAAAAF0GeU0URLCP/AAaX4Q4vutobWPzxjvwQAAAAEQGe\n",
       "dGpH/wAKhc+RxtVzH9qpAAAAOkGaeUmoQWyZTAhf//6MsAAUmplhuAiZmTVfb3mtif+CroXvsuIo\n",
       "A3TAGizbdq02HeCLVPt//oJpazAAAAAYQZ6XRRUsI/8ABpfbvELfJr9AP+vvFtbfAAAAEgGetnRH\n",
       "/wAKf+OZxaMzgp0XWwAAABMBnrhqR/8ACoEADJxWoHcu0XKAAAAAJEGavEmoQWyZTAhf//6MsAAU\n",
       "v4bCg8o0O2b1j9z15icwoZFywQAAABhBntpFFSwj/wAGmJlOPQWKIZghiMwOo3gAAAARAZ77akf/\n",
       "AAo5AGIOVVixjnEAAAAxQZrgSahBbJlMCF///oywABQKm1ROfkAGmFtrb01mYrYyNnGN658TJ/46\n",
       "zGWlq3WXwQAAABhBnx5FFSwj/wAGb9u8Qt8mv2Q/6+8W1t4AAAATAZ89dEf/AAo34+SqRtdlO5P8\n",
       "oAAAABMBnz9qR/8ACjkADJxWoHczUXKBAAAAG0GbI0moQWyZTAhf//6MsAAUL4bCg8n8Jreb0AAA\n",
       "ABhBn0FFFSwj/wAGcJlOPQWKIhghiMwOo3kAAAARAZ9iakf/AAnxAGIOVVoRjnAAAAAuQZtnSahB\n",
       "bJlMCF///oywABOAaR8+AGb3yppfl3t/8srvQLIro3a3PaKmV1JQYQAAABhBn4VFFSwj/wAGR9u8\n",
       "Qt8mv4g/6+8W1t8AAAATAZ+kdEf/AAn2rAlTfZ0p8UxWwQAAABMBn6ZqR/8ACfEADJxWoHc30XKB\n",
       "AAAAIEGbqkmoQWyZTAhf//6MsAATn5qAmqy9iMVn0E2atJKCAAAAGUGfyEUVLCP/AAZKJ9XOuG5B\n",
       "BH71kPEtbeAAAAASAZ/pakf/AAnyW96UVfTc35mbAAAAGkGb7EmoQWyZTBRMM//+nhAAEtD1XjhO\n",
       "XSygAAAAFAGeC2pH/wAJq1HEPmFgF3fvF6GCAAAAPEGaEEnhClJlMCF//oywABMM9HkoiJDSADTL\n",
       "txsBv1BuEikVLq7cyIKxqp/uz/KDJi5WLBk3IHNDmi3nIQAAABhBni5FNEwj/wAGH9vCPrV/Kai+\n",
       "OJs1At8AAAATAZ5NdEf/AAmqUA+9TqRC53nrsQAAABMBnk9qR/8ACatRkK9nlRc8Y67AAAAAGUGa\n",
       "U0moQWiZTAhf//6MsAASgF1xuIdEDfgAAAAXQZ5xRREsI/8ABffb0L7rripZksYdOcEAAAARAZ6S\n",
       "akf/AAlrUcQ+VVzRjnAAAAA7QZqXSahBbJlMCF///oywABKAaR8+AibdT2YvFY91l+dExhJUUk7O\n",
       "D9fl8CDigORQ7h3+1J1tp5GGrbAAAAAaQZ61RRUsI/8ABffbwj61fynMvjirBPBfQdEAAAAUAZ7U\n",
       "dEf/AAlv/6H+S3sQhPQMTtgAAAATAZ7Wakf/AAlrUZCvZ5UXQT6ygQAAACZBmtpJqEFsmUwIX//+\n",
       "jLAAEp+agJqsiuTQStUSMpoqsIeTRQehQQAAABhBnvhFFSwj/wAF+JlOPQWKI5ghiMwOo3gAAAAR\n",
       "AZ8Zakf/AAkrUcQ+VV4xjnEAAAAqQZseSahBbJlMCF///oywABIAaRtl0PbkVgBCHzDvrs+eoabD\n",
       "yH4soC5iAAAAGUGfPEUVLCP/AAXSzaB5YUBj7Dr42/F8kCEAAAATAZ9bdEf/AAkv/7qCfjdboxmZ\n",
       "QQAAABMBn11qR/8ACStReZxWoHdGPXKAAAAALUGbQUmoQWyZTAhf//6MsAASH5qAmsOQAr9zJogy\n",
       "PR9ah1ttUUp9uvp146q7MAAAABhBn39FFSwj/wAF0UlOPQWKJBghiMwOo3kAAAARAZ+Aakf/AAjr\n",
       "UcQ+VV+RjnAAAAAlQZuFSahBbJlMCF///oywABGAaR8+AGb3ylcPa0hjJo0j999tLQAAABlBn6NF\n",
       "FSwj/wAFrs2g0KR1xgG5+ixif0vAAAAAEwGfwnRH/wAI7/+6gn43W6WZmUEAAAATAZ/Eakf/AAjv\n",
       "S//d50+9H75S7QAAAB9Bm8hJqEFsmUwIX//+jLAAEZ+agJquO5TktkkO4eKTAAAAHkGf5kUVLCP/\n",
       "AAWu19XOuHPoAkFOuajhfteO8UOUIQAAABEBngdqR/8ACOxvmLflTTLjgAAAAB5BmgpJqEFsmUwU\n",
       "TC///oywABEAUcbiLVQAlnSFVfAAAAASAZ4pakf/AAirUcQ+YpmxK7V3AAAAH0GaLknhClJlMCF/\n",
       "/oywABEfmoC2qy+eiKQmbY/UsCAAAAAaQZ5MRTRMI/8ABYrNocFyNyCI2kHs2B8ZpYAAAAATAZ5r\n",
       "dEf/AAiv/5unZl9bqBmZQQAAABMBnm1qR/8ACKtRkK9nlRdQPrKBAAAAGUGacUmoQWiZTAhX//44\n",
       "QAA/WNIsXxVck4EAAAAXQZ6PRREsI/8ABWSL0L7r9ipZksYdOcAAAAARAZ6wakf/AAhrUcQ+VWN/\n",
       "NnAAAAAfQZq1SahBbJlMCP/8hAADyPEtTZFE37FI77tmSWwUYQAAABdBntNFFSwj/wAFZs2lCPdv\n",
       "jSmeRKEEcAAAABEBnvJ0R/8ACG//m6dmX1twoAAAABEBnvRqR/8ACG9L/93nT70buwAACX5tb292\n",
       "AAAAbG12aGQAAAAAAAAAAAAAAAAAAAPoAAALuAABAAABAAAAAAAAAAAAAAAAAQAAAAAAAAAAAAAA\n",
       "AAAAAAEAAAAAAAAAAAAAAAAAAEAAAAAAAAAAAAAAAAAAAAAAAAAAAAAAAAAAAAAAAAACAAAIqHRy\n",
       "YWsAAABcdGtoZAAAAAMAAAAAAAAAAAAAAAEAAAAAAAALuAAAAAAAAAAAAAAAAAAAAAAAAQAAAAAA\n",
       "AAAAAAAAAAAAAAEAAAAAAAAAAAAAAAAAAEAAAAABsAAAASAAAAAAACRlZHRzAAAAHGVsc3QAAAAA\n",
       "AAAAAQAAC7gAAAIAAAEAAAAACCBtZGlhAAAAIG1kaGQAAAAAAAAAAAAAAAAAADIAAACWAFXEAAAA\n",
       "AAAtaGRscgAAAAAAAAAAdmlkZQAAAAAAAAAAAAAAAFZpZGVvSGFuZGxlcgAAAAfLbWluZgAAABR2\n",
       "bWhkAAAAAQAAAAAAAAAAAAAAJGRpbmYAAAAcZHJlZgAAAAAAAAABAAAADHVybCAAAAABAAAHi3N0\n",
       "YmwAAACzc3RzZAAAAAAAAAABAAAAo2F2YzEAAAAAAAAAAQAAAAAAAAAAAAAAAAAAAAABsAEgAEgA\n",
       "AABIAAAAAAAAAAEAAAAAAAAAAAAAAAAAAAAAAAAAAAAAAAAAAAAAAAAAAAAY//8AAAAxYXZjQwFk\n",
       "AB7/4QAYZ2QAHqzZQbCWhAAAAwAEAAADAZA8WLZYAQAGaOvjyyLAAAAAHHV1aWRraEDyXyRPxbo5\n",
       "pRvPAyPzAAAAAAAAABhzdHRzAAAAAAAAAAEAAACWAAABAAAAABRzdHNzAAAAAAAAAAEAAAABAAAE\n",
       "CGN0dHMAAAAAAAAAfwAAAAQAAAIAAAAAAQAABAAAAAACAAABAAAAAAEAAAMAAAAAAQAAAQAAAAAB\n",
       "AAADAAAAAAEAAAEAAAAAAQAABQAAAAABAAACAAAAAAEAAAAAAAAAAQAAAQAAAAABAAAEAAAAAAIA\n",
       "AAEAAAAAAQAAAwAAAAABAAABAAAAAAEAAAQAAAAAAgAAAQAAAAABAAAEAAAAAAIAAAEAAAAAAQAA\n",
       "BQAAAAABAAACAAAAAAEAAAAAAAAAAQAAAQAAAAABAAAEAAAAAAIAAAEAAAAAAQAABQAAAAABAAAC\n",
       "AAAAAAEAAAAAAAAAAQAAAQAAAAABAAAEAAAAAAIAAAEAAAAAAQAABQAAAAABAAACAAAAAAEAAAAA\n",
       "AAAAAQAAAQAAAAABAAAEAAAAAAIAAAEAAAAAAQAABQAAAAABAAACAAAAAAEAAAAAAAAAAQAAAQAA\n",
       "AAABAAAEAAAAAAIAAAEAAAAAAQAAAwAAAAABAAABAAAAAAEAAAUAAAAAAQAAAgAAAAABAAAAAAAA\n",
       "AAEAAAEAAAAAAQAABAAAAAACAAABAAAAAAEAAAUAAAAAAQAAAgAAAAABAAAAAAAAAAEAAAEAAAAA\n",
       "AQAABAAAAAACAAABAAAAAAEAAAUAAAAAAQAAAgAAAAABAAAAAAAAAAEAAAEAAAAAAQAABAAAAAAC\n",
       "AAABAAAAAAEAAAMAAAAAAQAAAQAAAAABAAAFAAAAAAEAAAIAAAAAAQAAAAAAAAABAAABAAAAAAEA\n",
       "AAQAAAAAAgAAAQAAAAABAAAFAAAAAAEAAAIAAAAAAQAAAAAAAAABAAABAAAAAAEAAAQAAAAAAgAA\n",
       "AQAAAAABAAAFAAAAAAEAAAIAAAAAAQAAAAAAAAABAAABAAAAAAEAAAQAAAAAAgAAAQAAAAABAAAF\n",
       "AAAAAAEAAAIAAAAAAQAAAAAAAAABAAABAAAAAAEAAAQAAAAAAgAAAQAAAAABAAADAAAAAAEAAAEA\n",
       "AAAAAQAABQAAAAABAAACAAAAAAEAAAAAAAAAAQAAAQAAAAABAAAEAAAAAAIAAAEAAAAAAQAABQAA\n",
       "AAABAAACAAAAAAEAAAAAAAAAAQAAAQAAAAABAAAEAAAAAAIAAAEAAAAAAQAABQAAAAABAAACAAAA\n",
       "AAEAAAAAAAAAAQAAAQAAAAABAAAEAAAAAAIAAAEAAAAAAQAABQAAAAABAAACAAAAAAEAAAAAAAAA\n",
       "AQAAAQAAAAABAAAEAAAAAAIAAAEAAAAAAQAAAwAAAAABAAABAAAAAAEAAAUAAAAAAQAAAgAAAAAB\n",
       "AAAAAAAAAAEAAAEAAAAAAQAABAAAAAACAAABAAAAAAEAAAUAAAAAAQAAAgAAAAABAAAAAAAAAAEA\n",
       "AAEAAAAAHHN0c2MAAAAAAAAAAQAAAAEAAACWAAAAAQAAAmxzdHN6AAAAAAAAAAAAAACWAAALPQAA\n",
       "AUQAAAB4AAAAdwAAAH8AAAAqAAAAHQAAADoAAAAfAAAAMAAAABcAAAB/AAAAPAAAACQAAAAvAAAA\n",
       "ewAAADoAAAAqAAAAiQAAACgAAABYAAAANwAAABYAAAAkAAAAGwAAABUAAABwAAAAHgAAABgAAAAY\n",
       "AAAAIAAAABwAAAAVAAAAKQAAABwAAAAYAAAAFwAAACsAAAAcAAAAFQAAADMAAAAcAAAAFwAAABcA\n",
       "AAAyAAAAHQAAABYAAAAuAAAAHgAAABcAAAAYAAAANwAAAB0AAAAXAAAAHgAAABgAAAAuAAAAHAAA\n",
       "ABcAAAAXAAAAKAAAABwAAAAVAAAAKQAAABwAAAAYAAAAFwAAACwAAAAcAAAAFQAAAC4AAAAfAAAA\n",
       "FwAAABgAAAAuAAAAIAAAABYAAAAxAAAAHAAAADMAAAAgAAAAGQAAABcAAAAkAAAAGwAAABUAAAA+\n",
       "AAAAHAAAABYAAAAXAAAAKAAAABwAAAAVAAAANQAAABwAAAAXAAAAFwAAAB8AAAAcAAAAFQAAADIA\n",
       "AAAcAAAAFwAAABcAAAAkAAAAHQAAABYAAAAeAAAAGAAAAEAAAAAcAAAAFwAAABcAAAAdAAAAGwAA\n",
       "ABUAAAA/AAAAHgAAABgAAAAXAAAAKgAAABwAAAAVAAAALgAAAB0AAAAXAAAAFwAAADEAAAAcAAAA\n",
       "FQAAACkAAAAdAAAAFwAAABcAAAAjAAAAIgAAABUAAAAiAAAAFgAAACMAAAAeAAAAFwAAABcAAAAd\n",
       "AAAAGwAAABUAAAAjAAAAGwAAABUAAAAVAAAAFHN0Y28AAAAAAAAAAQAAACwAAABidWR0YQAAAFpt\n",
       "ZXRhAAAAAAAAACFoZGxyAAAAAAAAAABtZGlyYXBwbAAAAAAAAAAAAAAAAC1pbHN0AAAAJal0b28A\n",
       "AAAdZGF0YQAAAAEAAAAATGF2ZjU4LjI5LjEwMA==\n",
       "\">\n",
       "  Your browser does not support the video tag.\n",
       "</video>"
      ],
      "text/plain": [
       "<IPython.core.display.HTML object>"
      ]
     },
     "execution_count": 525,
     "metadata": {},
     "output_type": "execute_result"
    }
   ],
   "source": [
    "#Display interactively\n",
    "HTML(anim.to_html5_video())\n",
    "#Or save to a file in your working directory\n",
    "#anim.save('my_movie.mp4', fps=15)"
   ]
  },
  {
   "cell_type": "code",
   "execution_count": 459,
   "metadata": {},
   "outputs": [],
   "source": [
    "#Interactive\n",
    "#HTML(anim.to_jshtml())"
   ]
  },
  {
   "cell_type": "code",
   "execution_count": null,
   "metadata": {},
   "outputs": [],
   "source": []
  }
 ],
 "metadata": {
  "kernelspec": {
   "display_name": "Python 2",
   "language": "python",
   "name": "python2"
  },
  "language_info": {
   "codemirror_mode": {
    "name": "ipython",
    "version": 2
   },
   "file_extension": ".py",
   "mimetype": "text/x-python",
   "name": "python",
   "nbconvert_exporter": "python",
   "pygments_lexer": "ipython2",
   "version": "2.7.16"
  }
 },
 "nbformat": 4,
 "nbformat_minor": 2
}
