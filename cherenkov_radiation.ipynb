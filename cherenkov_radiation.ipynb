{
 "cells": [
  {
   "cell_type": "markdown",
   "metadata": {},
   "source": [
    "We explore Cherenkov Radiation for this project. Cherenkov Radiation results from a charged particle that moves with a speed greater than the speed of light **through that particular medium**. i.e.\n",
    "\n",
    "$v_{par} > \\frac{c}{n}$\n",
    "\n",
    "In astrophysics, this is why the precise direction of the radiation gives us energy measurements! The radiation is a rapid energy-loss mechanism of the charged particle.\n",
    "\n",
    "We will simulate spectra for Cherenkov radiation under different parameters."
   ]
  },
  {
   "cell_type": "markdown",
   "metadata": {},
   "source": [
    "We will assume the Frank-Tamm formula for the frequency spectrum resulting from a charged particle moving relativistically along the $x$ axis in a medium with refraction index $n$. For material on the derivation of this formula see Jackson (EM book) and many online resources. "
   ]
  },
  {
   "cell_type": "markdown",
   "metadata": {},
   "source": [
    "Frequency spectrum:\n",
    "\n",
    "$\\frac{dE}{dx} = \\frac{q^2 \\mu}{4\\pi}(1-\\frac{1}{\\beta^2n^2}) \\nu d\\nu$"
   ]
  },
  {
   "cell_type": "markdown",
   "metadata": {},
   "source": [
    "Let's get this in the form of $\\nu F_{\\nu}$ form. "
   ]
  },
  {
   "cell_type": "markdown",
   "metadata": {},
   "source": [
    "We have $\\frac{dE}{dx}$ but we want $\\nu F_{\\nu}$. We note that $dx = \\frac{c}{n} dt$ therefore\n",
    "\n",
    "$\\frac{dE}{dx} = \\frac{n}{c} \\frac{dE}{dt}$\n",
    "\n",
    "Which is power. $P = \\frac{dE}{dt}$"
   ]
  },
  {
   "cell_type": "markdown",
   "metadata": {},
   "source": [
    "Next we note $P = \\frac{4\\pi L_\\nu}{V}$ where $L_\\nu$ is the luminosity at a given $\\nu$ and $V$ is the volume. We also note that $L_\\nu = F_\\nu A$ where $A$ is the area."
   ]
  },
  {
   "cell_type": "markdown",
   "metadata": {},
   "source": [
    "Therefore,\n",
    "\n",
    "$P = \\frac{dE}{dt} = \\frac{ 4\\pi F_\\nu A}{V}$\n",
    "\n",
    "$V=AL$\n",
    "\n",
    "$P = \\frac{dE}{dt} = \\frac{ 4\\pi F_\\nu}{L}$"
   ]
  },
  {
   "cell_type": "markdown",
   "metadata": {},
   "source": [
    "Where $L$ is the distance travelled by the moving charged particle. This would be an input parameter."
   ]
  },
  {
   "cell_type": "markdown",
   "metadata": {},
   "source": [
    "Moving things around, we see that $F_\\nu$ becomes\n",
    "\n",
    "$F_\\nu = \\frac{c L}{4\\pi n} \\bigg[\\frac{q^2 \\mu}{4\\pi}(1-\\frac{1}{\\beta^2n^2}) \\nu d\\nu \\bigg]$"
   ]
  },
  {
   "cell_type": "markdown",
   "metadata": {},
   "source": [
    "To get the form we are looking for, we multiply a fancy one to the right hand side, i.e. $\\frac{\\nu}{\\nu}$:\n",
    "    \n",
    "$F_\\nu = \\frac{q^2 c \\mu \\ln(10)}{(4\\pi )^2 n} (1-\\frac{1}{\\beta^2n^2}) L \\nu^2 d(\\log(\\nu))$"
   ]
  },
  {
   "cell_type": "markdown",
   "metadata": {},
   "source": [
    "And finally, multiply by one more $\\nu$:\n",
    "    \n",
    "$\\nu F_\\nu = A(n) (1-\\frac{1}{\\beta^2n^2}) L \\nu^3 d(\\log(\\nu))$\n",
    "\n",
    "with $A(n) = \\frac{q^2 c \\mu \\ln(10)}{(4\\pi)^2 n}$. A is a function of n because $\\mu$ is the magnetic permeability and depends on the material of which we propagate through. But since we are interested in only interactions in water, we will simplify quite a bit in a moment."
   ]
  },
  {
   "cell_type": "markdown",
   "metadata": {},
   "source": [
    "So we see $A(n)$ is just a constant in our simple model because $n=1.333$ in water, therefore $\\mu$ is a determined, unchanging quantity ($\\mu = 1.25\\times10^{-6} H/m$) and the rest are fundamental constants. So we note that $A(n=1.33) = A = 1.05248\\times10^{-37} \\frac{C^2H}{m}$"
   ]
  },
  {
   "cell_type": "markdown",
   "metadata": {},
   "source": [
    "Now our equation looks like:\n",
    "    \n",
    "$\\nu F_\\nu = A (1-\\frac{1}{\\beta^2 n^2}) L \\nu^3 d(\\log(\\nu))$"
   ]
  },
  {
   "cell_type": "markdown",
   "metadata": {},
   "source": [
    "where $A$ is known, $\\beta$ and $L$ are input parameters, and we plot against some frequency range $[\\nu, \\nu+d\\nu]$"
   ]
  },
  {
   "cell_type": "markdown",
   "metadata": {},
   "source": [
    "Now let's plot for varying $\\beta$s and $L$s and $n$s. "
   ]
  },
  {
   "cell_type": "markdown",
   "metadata": {},
   "source": [
    "Import necessary packages."
   ]
  },
  {
   "cell_type": "code",
   "execution_count": 1,
   "metadata": {},
   "outputs": [],
   "source": [
    "import matplotlib\n",
    "import matplotlib.pyplot as plt\n",
    "import numpy as np\n",
    "import math\n",
    "import scipy.integrate as integrate\n",
    "from scipy.integrate import quad"
   ]
  },
  {
   "cell_type": "markdown",
   "metadata": {},
   "source": [
    "Define your variables."
   ]
  },
  {
   "cell_type": "code",
   "execution_count": 2,
   "metadata": {},
   "outputs": [
    {
     "name": "stdout",
     "output_type": "stream",
     "text": [
      "1.0501154406272732e-37\n"
     ]
    }
   ],
   "source": [
    "# remember beta must be < 1 for Cherenkov radiation to occur but greater than 1/n which is 0.7518.\n",
    "beta = 0.77777 #must be greater than 0.7518\n",
    "L = 1e-3 #in meters because of the \\mu constant's dimensions.\n",
    "q = 1.6e-19 #fundamental charge.\n",
    "n = 1.333\n",
    "c = 3e8 # m/s\n",
    "mu = 1.25e-6 #mu which is pretty much constant in most material.\n",
    "A = q**2*c*mu*np.log(10)/(n*(4*np.pi)**2) #in C^2*H/m.\n",
    "print A"
   ]
  },
  {
   "cell_type": "code",
   "execution_count": 3,
   "metadata": {},
   "outputs": [
    {
     "name": "stdout",
     "output_type": "stream",
     "text": [
      "[1.00000000e+22 2.78255940e+22 7.74263683e+22 2.15443469e+23\n",
      " 5.99484250e+23 1.66810054e+24 4.64158883e+24 1.29154967e+25\n",
      " 3.59381366e+25 1.00000000e+26]\n"
     ]
    }
   ],
   "source": [
    "#Our frequencies logarithmically spaced.\n",
    "v = np.logspace(22, 26, num=10, base=10) #in Hz, from 100MeV and goes up to 2TeV.\n",
    "# ln(10)log(x)=ln(x).... x = exp(ln(10)*log(x))\n",
    "print v"
   ]
  },
  {
   "cell_type": "markdown",
   "metadata": {},
   "source": [
    "Integrate with these values to find $\\nu F_\\nu$ $y$ points over varying frequency bins."
   ]
  },
  {
   "cell_type": "code",
   "execution_count": 4,
   "metadata": {},
   "outputs": [
    {
     "name": "stdout",
     "output_type": "stream",
     "text": [
      "1.17944858206e-37\n",
      "1.30945097216e-51\n"
     ]
    }
   ],
   "source": [
    "def integrand(v, beta): \n",
    "    return A*L*(1 - 1/(beta**(2)*(n)**2))*(v**(3))\n",
    "\n",
    "#Integrate over the varying frequency bins for several data points (stored in v).\n",
    "ans, err = quad(integrand, np.log10(2.41e22), np.log10(5.0e23), args=(beta,))\n",
    "print ans\n",
    "print err"
   ]
  },
  {
   "cell_type": "markdown",
   "metadata": {},
   "source": [
    "Plot."
   ]
  },
  {
   "cell_type": "code",
   "execution_count": 5,
   "metadata": {},
   "outputs": [
    {
     "name": "stdout",
     "output_type": "stream",
     "text": [
      "y=69005254452.072235x+(-309907319681162880167547089050402816.000000)\n"
     ]
    },
    {
     "data": {
      "image/png": "[encoded data removed]",
      "text/plain": [
       "<Figure size 432x288 with 1 Axes>"
      ]
     },
     "metadata": {
      "needs_background": "light"
     },
     "output_type": "display_data"
    }
   ],
   "source": [
    "x = v\n",
    "y = integrand(v,beta)\n",
    "plt.scatter([x],[y], marker = \".\", label = \"Cherenkov light for beta=0.7777, L=100 m\")\n",
    "plt.xscale('log')\n",
    "plt.yscale('log')\n",
    "#plt.xlim([2e-1,1e4])\n",
    "#plt.ylim([1e-15,5e-10])\n",
    "plt.ylabel('nu F_nu (erg/cm^2/s)')\n",
    "plt.xlabel('nu (Hz)')\n",
    "plt.title('Spectral distribution for a particle radiating Cherenkov light,  moving at beta=0.7777 and travels 10.0 m.')\n",
    "# plot the data itself\n",
    "import pylab\n",
    "#pylab.plot(x,y,'o')\n",
    "\n",
    "# calc the trendline\n",
    "z = np.polyfit(x, y, 1)\n",
    "p = np.poly1d(z)\n",
    "pylab.plot(x,p(x),\"r--\")\n",
    "# the line equation:\n",
    "print \"y=%.6fx+(%.6f)\"%(z[0],z[1])"
   ]
  },
  {
   "cell_type": "markdown",
   "metadata": {},
   "source": [
    "What's happening lol? \n",
    "\n",
    "Now let's focus on making a movie of Cherenkov light from a moving charged particle.\n",
    "\n",
    "Import packages:"
   ]
  },
  {
   "cell_type": "code",
   "execution_count": 450,
   "metadata": {},
   "outputs": [],
   "source": [
    "%matplotlib inline\n",
    "import numpy as np\n",
    "import matplotlib.pyplot as plt\n",
    "from matplotlib import animation, rc\n",
    "from IPython.display import HTML"
   ]
  },
  {
   "cell_type": "markdown",
   "metadata": {},
   "source": [
    "Set up the figure and axes. Line, particle, and circle are the elements we want to animate."
   ]
  },
  {
   "cell_type": "code",
   "execution_count": 451,
   "metadata": {},
   "outputs": [
    {
     "data": {
      "image/png": "[encoded data removed]",
      "text/plain": [
       "<Figure size 432x288 with 1 Axes>"
      ]
     },
     "metadata": {
      "needs_background": "light"
     },
     "output_type": "display_data"
    }
   ],
   "source": [
    "fig, ax = plt.subplots()\n",
    "Nframes = 100\n",
    "ax.set_xlim((0, 10))\n",
    "ax.set_ylim((0, 10))\n",
    "\n",
    "\n",
    "plt.xlabel('time', fontsize=12)\n",
    "plt.ylabel('x position', fontsize=12)\n",
    "circ = plt.Circle((5, 5), radius=1.0, facecolor=\"None\", edgecolor='k', lw=4)\n",
    "line, = ax.plot([], [], lw=1)\n",
    "particle, = ax.plot([], [], marker='o', ms=7, color='blue')\n",
    "circle, = ax.plot([], [], marker='o', ms=10, color='red')"
   ]
  },
  {
   "cell_type": "markdown",
   "metadata": {},
   "source": [
    "Define intial function. "
   ]
  },
  {
   "cell_type": "code",
   "execution_count": 452,
   "metadata": {},
   "outputs": [],
   "source": [
    "def init():\n",
    "    circle.set_data([], [])\n",
    "    particle.set_data([], [])\n",
    "    line.set_data([],[])\n",
    "    return circle, particle, line,"
   ]
  },
  {
   "cell_type": "markdown",
   "metadata": {},
   "source": [
    "Insert the motion of Cherenkov light. "
   ]
  },
  {
   "cell_type": "code",
   "execution_count": 463,
   "metadata": {},
   "outputs": [],
   "source": [
    "def animate(i):\n",
    "    t = 2*np.pi*float(i/(Nframes-1.))\n",
    "    t_total = np.linspace(0, 2.*np.pi, Nframes)\n",
    "    x = 1*t\n",
    "    y = 5\n",
    "    rad = 3e8*t\n",
    "    x_circle = 2*np.pi*rad\n",
    "    circle.set_data(x_circle, [5])\n",
    "    line.set_data([0,10],[5])\n",
    "    particle.set_data(x,y)\n",
    "    return circle, particle, line,"
   ]
  },
  {
   "cell_type": "code",
   "execution_count": 464,
   "metadata": {},
   "outputs": [],
   "source": [
    "#Compile\n",
    "anim = animation.FuncAnimation(fig, animate, init_func=init,\n",
    "                               frames=150, interval=20, \n",
    "                               blit=True)"
   ]
  },
  {
   "cell_type": "code",
   "execution_count": 465,
   "metadata": {},
   "outputs": [
    {
     "data": {
      "text/html": [
       "<video width=\"432\" height=\"288\" controls autoplay loop>\n",
       "  <source type=\"video/mp4\" src=\"data:video/mp4;base64,AAAAHGZ0eXBNNFYgAAACAGlzb21pc28yYXZjMQAAAAhmcmVlAAAeIm1kYXQAAAKgBgX//5zcRem9\n",
       "5tlIt5Ys2CDZI+7veDI2NCAtIGNvcmUgMTU3IC0gSC4yNjQvTVBFRy00IEFWQyBjb2RlYyAtIENv\n",
       "cHlsZWZ0IDIwMDMtMjAxOCAtIGh0dHA6Ly93d3cudmlkZW9sYW4ub3JnL3gyNjQuaHRtbCAtIG9w\n",
       "dGlvbnM6IGNhYmFjPTEgcmVmPTMgZGVibG9jaz0xOjA6MCBhbmFseXNlPTB4MzoweDExMyBtZT1o\n",
       "ZXggc3VibWU9NyBwc3k9MSBwc3lfcmQ9MS4wMDowLjAwIG1peGVkX3JlZj0xIG1lX3JhbmdlPTE2\n",
       "IGNocm9tYV9tZT0xIHRyZWxsaXM9MSA4eDhkY3Q9MSBjcW09MCBkZWFkem9uZT0yMSwxMSBmYXN0\n",
       "X3Bza2lwPTEgY2hyb21hX3FwX29mZnNldD0tMiB0aHJlYWRzPTYgbG9va2FoZWFkX3RocmVhZHM9\n",
       "MSBzbGljZWRfdGhyZWFkcz0wIG5yPTAgZGVjaW1hdGU9MSBpbnRlcmxhY2VkPTAgYmx1cmF5X2Nv\n",
       "bXBhdD0wIGNvbnN0cmFpbmVkX2ludHJhPTAgYmZyYW1lcz0zIGJfcHlyYW1pZD0yIGJfYWRhcHQ9\n",
       "MSBiX2JpYXM9MCBkaXJlY3Q9MSB3ZWlnaHRiPTEgb3Blbl9nb3A9MCB3ZWlnaHRwPTIga2V5aW50\n",
       "PTI1MCBrZXlpbnRfbWluPTI1IHNjZW5lY3V0PTQwIGludHJhX3JlZnJlc2g9MCByY19sb29rYWhl\n",
       "YWQ9NDAgcmM9Y3JmIG1idHJlZT0xIGNyZj0yMy4wIHFjb21wPTAuNjAgcXBtaW49MCBxcG1heD02\n",
       "OSBxcHN0ZXA9NCBpcF9yYXRpbz0xLjQwIGFxPTE6MS4wMACAAAAHX2WIhAAr//72c3wKa0czlS4F\n",
       "dvdmo+XQkuX7EGD60AAAAwABqtY84Jzh1UCn7Mkz0YSGZBBjj5XJFKBksmbmJpf+FBqB8qTmkkTH\n",
       "3QHCFAl/i4AAKvQvBPevze04XDq8OsgCUWgqZ1KhaVotZCpJlKtB881FUHihuscKQ2Ik5yI0lPHe\n",
       "MKgGLusT158NK2qhd/GWf8UerPGX/F5exS99ILgTetyU+Ym7E52AX6+EtPKKbjCbPCntfK7Ql6il\n",
       "yH+b4lYxVExiqQchm2mUaUAA6kpKiPK2b3Up/WsknvfZu40Hbn2KmNn3e8IAa0Av77pQ/nscPJ7k\n",
       "mVIKKPBEXII/e2j+uRIp8CbS0kN+DQmIs8ZWwFLeSmaegAAg9wejQawuhGcdSEjjGFNT4zlc4N8+\n",
       "MaDKxnPd3F+zwACBwlu0YAOS+6N+aXBc38bwPsqqd+VwT7yRrCoq8HwO4hCk6kWZHO0QgXNUQQ3J\n",
       "slv9XvUvB1c5lrmIIYpRm+MMGPbdGC00v2mxDFnjDByE5Z2lZskR2OSUgF2hM2PFYWqFeP0msX5U\n",
       "El0O0jMjSbhEqaEr88OOxYjBNv7Pq+EJScu7o0Oj4ij2bAJwmOwcMvx1CZZxS+oopohUY7cspj1q\n",
       "WzYO7lM9ZNmCK/Q73NwAaOaJihHvh15m8bVa2fYeFQZCOB1xj3QQYN2EUosSE7RgsAtT4zij/S4Q\n",
       "Doln2ByB5GN2guClax6w+YN9xEuS7POrwRDD4gnnqIPt38LCHg8OYhxQzrofw0TelSNvwseBLh/I\n",
       "oNOrQ7EPrDAY977/joZO/YJGAT4uMMfw3BKrIJ00AHAztH5wn2/BfB0/A4cIoK2oG7sHbIHvECaw\n",
       "Mop7yWfwz8CVdA5xM/shGKCCsH/mMaf1HwaX+yxgNXEiddniJpnCUz4nrVMuMJLBGF1bJhNoUacG\n",
       "mio3q6NQCDyejEwIO+QFUrRzhRh1l8S+3kCMYO/KWjkdqiWNjHk8UcyVjxppPtQniK+dTOELa51d\n",
       "tvKE/RqiRDON3vU/P1K7EBsN8sjmXA4p7ZxWuxNJmS98KqRRm/B+Dynjbgw3lJpEo3i+PliULfAI\n",
       "2xV3hTXbH9uLW3fcXJXIkW6UhQWP8kqehq7B4jc9Jnr4ASGK3k/oqq8PJwTP9WJU8B6pugXNgVdA\n",
       "8sGyFqxzmh+KeP9CRSGAAAK7NQgRV9+cZoKy+2M2ridzqmo3WuGVORw/4pPGlLuypGN/RI0gxVUH\n",
       "Ve7pitxTRyHYoNKcfs7nOwHeOj87MNe66etE79ecaSrKXdPb5bXuSFkLlZIyytpu4e5ZlIdfY31X\n",
       "yFBaQabmGwZfQljBR+lMaO6shtXJLY6qeuqyeqf0HJ79kBPhWqWhgdTfAW2wPA2AaIjosc55frD/\n",
       "Q2O1XNdm+VYmBwcgBoGKNf6WNlWPGQDcLts3lBfTECicXoedLNIVBwBdr69A3+Apr/pjCoeQ9CE1\n",
       "AL5fEiDn9NI6M73f+K08OeGBx6egdoHGIDd+qiSIOoRaf/oxKSdeY54I+ChO/VWo8Itc2SWE4gYm\n",
       "z3LAixByKNn0+7PFRf9Ogof2/kBT36ZbNnRfzl5+5Fa1IQ9IWTU+1n+YjCnqtsYq26yuEXAAaXCq\n",
       "AFuDs2rm4HTnJeOX4V+hHCbvaEOftaVMFJTdokoY53D/RWh/0N6aMTT+rmAmZRhzsLHadoDjz6BO\n",
       "wJnFrfHtz4TsM51dtma0//R6d6F4Ii6PBL+NTf5NXwTypWsu3CNxLhFNu93dWqmTzyKWFaGumDax\n",
       "x5l03WaYMAb0bY29Uas+bcya0Joyi4BRV0nGAYYY6Rpm3h/mLRgsIe7s4r3Ki67YYCPCndpc7mB3\n",
       "zXBfpdz9Zang8D+96LgknS4v8zgZyOVw+2Uhg9xIOn90voTbMB3lLZHp0tdRyhf1IWIgzinoLVXf\n",
       "oLWCouqjtiIdc4LI7H9kj11shXOpQn5UrYrwWUD+SIl/OTAkufHWS5k0aeI+CSZ7LL3PNnv4EulW\n",
       "i/cU/OTjNXOr92iTTmZ/Y93cekOwJuIUPikN0JOyopUVNvWW+XIrcKC0oLwXLT5OtcmgSw8jngci\n",
       "LJUTgpL8X3boqpNT7oKznDwNOnhZPo6dh1D+1I2SLOdM4Q87xjzcnJSYcJCstd5fU06PW/gIoBtC\n",
       "NimnD58yV/fde3RuKYF18R5PPmgEI+GWrSykFX2HEQA9ztQAp4eoJ6lVM+jr81/xSQmDpKuleo+e\n",
       "U33kgq4g/JCGCF4/g3YplGI+1vadzJFP1dtFy8/6hY6qFCi/WBHKk1g1mxz/mQuoFVgBIb2HUv7h\n",
       "1VZj3mq6gDt+NLXr6ZOS6xHyQILGoV3CrZUt0ocZdxHcGBgMpa0khMKsmpaQNMUps6qNc783AWAM\n",
       "j9C5tfnZMtt7yqaqqqlSO5Q3DQEUqbION/p+Af/lraQ7D9Y27ti45tn088+m0ESvZHVal2cqmIiK\n",
       "wGZhrruPwJwbFWfbabAFRqOUuqwVgaLlg/W4c8eCkp5o7ZURlDwsOAs5sKSjwQAAAR9BmiFsQr/+\n",
       "OEGdqRLWc+wVB1eetXhbCAAAAwAIrQ21TLAbtHskgEFh9nypynUxU25iMZWN7RqYH+SnxpOj1MI4\n",
       "GvlNbAPGfL7O7+NrDDINrgGZ3zHUSyS53OfuhIz2JKZZqKy8V1Mo9pheX7u+VIOPqOm2hEl2mvU5\n",
       "uC6pSeUXouCP7mhKo8uxKq2+aJuvvzevIEQpfYMx23BdJi113076hyzvQNHOm8BANonjtLswYRS7\n",
       "HywnxUhzUHtDeZIdd39u0MQHU/eH7QwWPG5Fza0ElZcUMvwrh3fWSJi8aM4yyXu+fDucujcTuSZv\n",
       "7errGH9ISVT2l4f4piHIL/59fAMRwZ/x31eE4wdEXxjJsTrJ0FwCC9LQxEDXYgPWJ5jJowAAAGlB\n",
       "mkI8IZMphCv//jhAAGmM4GjsOAE08uK0m6TTGAmcxFmCAoOXD1Np/X1ml3y1G5ENyu6IuF+pBriU\n",
       "0qTW3kjWUtON9U6VDYpoOakK4KgPx56exTB4tgOZ78bU1lPqngmozpZDQIbwXvMAAABmQZpjSeEP\n",
       "JlMCF//+jLAAGyCxuOOS6AAIP1h7JSDjHrgvViTgwcyMwFh12Rzhif+yvFC/s53X+PuCTkkvMQRo\n",
       "D8dlNpWNBiZdvwHhOweANCdLODvO5EMnd7T+x9epaG8aCZy14RmAAAAAYUGahEnhDyZTAhf//oyw\n",
       "ABsgatXHPAAmUvJhAVfq6pS71eYVvOxikVfJ1jUpc26b/ETN/+Mcwetc1+AUAmoJckEHuQvP0rqM\n",
       "QzI++7kTFYueo7fsr9OJGseXLDt5HPAqHMcAAABGQZqnSeEPJlMCF//+jLAAG00nzwpDmAALWeuE\n",
       "ydo12XgiAlCBb1d78ylG2C2dUkOXdHSY3Hp35AAXMxDZ6DSE+y/yCcRn6QAAADVBnsVFETwj/wAI\n",
       "0tlcuPDnIAEPjaPLggytGFd7JUx/CwX8/Fgc1xQq90VORtj9N8M5qihyDQAAAB8BnuZqR/8ADivv\n",
       "Fmv18yq7Gz+vAygWcEcTwr7SSL9DAAAALkGa6kmoQWiZTAhn//6eEAAaVeOj1ACWWs0XGWJqclSW\n",
       "vpsir8mJ+Lj3DdZERoAAAAAgQZ8IRREsI/8ACPFTsBEb1tQPB6J5dBZRvq0z6WxeKYAAAAAYAZ8p\n",
       "akf/AA4sD2zExldAmmOB6JmbIxVLAAAASkGbLkmoQWyZTAhf//6MsAAarWn1guO67Vjl+uKu/iCf\n",
       "ETNO3CKqecx498BGvIwU9ygzY0InzD4TGyVieL1I9dLJPLWxd0wj+STgAAAAHkGfTEUVLCP/AAjx\n",
       "U7AfnWBzxlqGf9VMgkM0rlhhIAAAABoBn2t0R/8ADiRmE39FecRYrpLPFhM3NGmIwQAAABQBn21q\n",
       "R/8ADiwPbMIBtwVkjfAFPwAAAB9Bm3FJqEFsmUwIX//+jLAAGeWNVkjVUACrpsD6CBQxAAAAFUGf\n",
       "j0UVLCP/AAjxU1oRGdmB8PM/XwAAABMBn7BqR/8ADiwN5m+7kbEJSafAAAAAKUGbtUmoQWyZTAhf\n",
       "//6MsAAZ5ZtYbgImXhREqQ96s8tZfney4Au0FHdBAAAAGEGf00UVLCP/AAjxU2DqolLcvROQzbWv\n",
       "gAAAABYBn/J0R/8ADiRkNV+aFmHhgDWyvxdAAAAAFQGf9GpH/wAOLA4IsDZIN+VE1hTXwQAAAB5B\n",
       "m/hJqEFsmUwIX//+jLAAGg9xkoPKMkgn6YbFTsAAAAAXQZ4WRRUsI/8ACPFTXDE/YUd+47BX6+EA\n",
       "AAATAZ43akf/AA4sDJZvxkPmWiGvgQAAACRBmjxJqEFsmUwIX//+jLAAGUWZU7+pUv0f2DNusHq/\n",
       "ilbCMmAAAAAZQZ5aRRUsI/8ACPFTCKzLvq2vQkO6cPU6gQAAABQBnnl0R/8ADiRiqi5gF/mcyLdU\n",
       "XQAAABYBnntqR/8ADiwMlmyVTuTRQdcOIE1RAAAAIkGaf0moQWyZTAhf//6MsAAZb3GSlIKABG57\n",
       "JPn8n6ysiXkAAAAXQZ6dRRUsI/8ACPFTCrvCiTc+uMK5xdAAAAATAZ6+akf/AA4sC2zRIVhQSDGn\n",
       "wAAAACJBmqNJqEFsmUwIX//+jLAAGKpA2p8UI2/uABp7g8YfEQUHAAAAF0GewUUVLCP/AAjxUr+T\n",
       "UNT58GNh3OLoAAAAFAGe4HRH/wAOJGEN4aQQ2v+YzPU/AAAAFAGe4mpH/wAOLAtszvt5dtFSVvi6\n",
       "AAAAG0Ga5kmoQWyZTAhf//6MsAAYsTxqrgN4rT5E3QAAABdBnwRFFSwj/wAI8VLFNSOI6IROgzbW\n",
       "vwAAABQBnyVqR/8ADiwLcyeh9M/5Mj94uwAAACFBmyhJqEFsmUwUTDP//p4QABfV2I9QAllrGN/I\n",
       "gu50xYEAAAATAZ9Hakf/AA4vgMAokqPoeDzi6AAAACxBm0xJ4QpSZTAhf/6MsAAYBZlhuAiaWK7L\n",
       "GV0J83gLoXFojK4EWrs8+Xb4eAAAABdBn2pFNEwj/wAI8FUHKa9y20EdGAK9PwAAABQBn4l0R/8A\n",
       "DiRf3d7LXictNk9RdAAAABQBn4tqR/8ADiwKgE+PzhGLW2a8XQAAACRBm49JqEFomUwIX//+jLAA\n",
       "GC9xkpRaMkgn6dKA1cOiGHGRY0EAAAAXQZ+tRREsI/8ACPFShk1Cjj/2luD5xdEAAAATAZ/Oakf/\n",
       "AA4sCZ5iaC9AxBrr4QAAACdBm9NJqEFsmUwIX//+jLAAF2qZYbgDNfISoxldfudigF/ffOiT5bgA\n",
       "AAAXQZ/xRRUsI/8ACPFSTghl32hno+Hc4ugAAAAVAZ4QdEf/AA4kXskmqtcdkStXji6BAAAAFAGe\n",
       "EmpH/wAOLAmeYQDcxVJk+AKfAAAAKkGaFkmoQWyZTAhf//6MsAAXj4bClIKABGvqzga/PgBGXze3\n",
       "/VraaKlFwAAAABdBnjRFFSwj/wAI8VJPIjPL6v2vUIX6+QAAABMBnlVqR/8ADiwIz7f5qndtENfA\n",
       "AAAAIkGaWkmoQWyZTAhf//6MsAAW2plRJqlXLP1TctnRyjNgV3UAAAAXQZ54RRUsI/8ACPFSHghl\n",
       "33U7pWHc4ukAAAAUAZ6XdEf/AA4kXdnAasQ76uq3VF0AAAAUAZ6Zakf/AA4sCM+2Sqi176/rfF0A\n",
       "AAAvQZqdSahBbJlMCF///oywABb/8gPhYYEpQtVNdABNTQKCUHLhjStMmx5xaj8NSj4AAAAXQZ67\n",
       "RRUsI/8ACPFSIYmyPt3Cu1W5P18AAAAUAZ7cakf/AA4sCNR2YJWm6K7n3F0AAAAfQZrBSahBbJlM\n",
       "CF///oywABZKmVEmqVcs/VNy2dH2rAAAABdBnv9FFSwj/wAI8VHyVmXfg/emIdzi6AAAABQBnx50\n",
       "R/8ADiRc8rBq0lvq8LdUXQAAABQBnwBqR/8ADiwIF7ZKqVzoxFjWvgAAAB5BmwRJqEFsmUwIX//+\n",
       "jLAAFk8/0Z8UgeaZDg1UpOEAAAAXQZ8iRRUsI/8ACPFR8lY8yQfT2R736+AAAAAUAZ9Dakf/AA4s\n",
       "CBxAPEqwclPLKn0AAAAhQZtGSahBbJlMFEwv//6MsAAVuodnBADdUqRBtsV+SOOPAAAAEwGfZWpH\n",
       "/wAOL384T0BI/LAgNfEAAAAsQZtqSeEKUmUwIX/+jLAAFbqZYbgIm4ouXxVUnN4DaOiYEEyuBFq7\n",
       "PPl2+YkAAAAXQZ+IRTRMI/8ACPBUk4Q4nbfDmduZnp8AAAAUAZ+ndEf/AA4kXBZGdaxXYy3PUXQA\n",
       "AAAUAZ+pakf/AA4sB3CdcFe/glMmvF0AAAArQZutSahBaJlMCF///oywABXf8gPjqr9FJTJia5B3\n",
       "FGuabhAAqStQ+ZFtQAAAABdBn8tFESwj/wAI8VHODWCnlv2wc/j0+AAAABMBn+xqR/8ADiwG8mPX\n",
       "lZ6t7mnxAAAAIkGb8UmoQWyZTAhf//6MsAAVKplRJqlXLP1TctnRy4Q9zmUAAAAZQZ4PRRUsI/8A\n",
       "CPFRqcmoaqBP95exDJIyQQAAABcBni50R/8ADiRbcJaya+guz3DhG/hcygAAABUBnjBqR/8ADiwG\n",
       "5mfH6CKFxK5eLoAAAAAeQZo0SahBbJlMCF///oywABVPhsKDyjJIJ+mGxWDBAAAAF0GeUkUVLCP/\n",
       "AAjxUaqmoU/vdXkuy/XwAAAAEwGec2pH/wAOLAZeaLDx+1gxp8AAAAAsQZp4SahBbJlMCF///oyw\n",
       "ABSam1huAGcFEg4MgJ65K3YKCnpe8wJlQ8ZnBIEAAAAZQZ6WRRUsI/8ACPFRh8moaqHnqDjCF2JY\n",
       "wAAAABQBnrV0R/8ADiRavvDSSV1/5bgcXQAAABYBnrdqR/8ADiwGXmd9vsPvy9jbd0UZAAAAHUGa\n",
       "u0moQWyZTAhf//6MsAAUv4bCg8oySRemGxWNAAAAGUGe2UUVLCP/AAjxUYqahVCnWOaXdNl0T8cA\n",
       "AAAWAZ76akf/AA4sBmGT0XPq9nerf4PIeAAAADNBmv1JqEFsmUwUTDP//p4QABPa3sB9Prv7sQAX\n",
       "A8M5k5q3xbVBeAZCmhirz4H6mXWzGKkAAAAXAZ8cakf/AA4vfnUtxD9zaxk5/398n40AAAAlQZsB\n",
       "SeEKUmUwIX/+jLAAFC/yFpz2T+VkwuwZ4IgAKA2me9xWXAAAABlBnz9FNEwj/wAI8FRY5Ne5ds4c\n",
       "OZmhd/LPAAAAFgGfXnRH/wAOJFom72W0p2NHT17vieEAAAAWAZ9Aakf/AA4sBd5nx+htAmPmv8J8\n",
       "vAAAABlBm0RJqEFomUwIX//+jLAAE4BdcbiHRA1ZAAAAF0GfYkURLCP/AAjxUVAESYWexB9BvWzv\n",
       "AAAAFQGfg2pH/wAOLAVn3BT8LJwZLvj3gQAAADBBm4hJqEFsmUwIX//+jLAAE4BpHz4CJt0a9IMg\n",
       "KOVZfn6n0ZajbKj4xi95gVCD5B8AAAAbQZ+mRRUsI/8ACPFRUAQ4ncFBHoInlZ8b4HhBAAAAFgGf\n",
       "xXRH/wAOJFmcklSXLWNfz17vieEAAAAWAZ/Hakf/AA4sBWfbXkO6gmomv8J8vAAAAB5Bm8tJqEFs\n",
       "mUwIX//+jLAAE5+agJqsvYhzmfGxWhAAAAAZQZ/pRRUsI/8ACPFRUIxP5A+fZAgsG86L4QAAABUB\n",
       "ngpqR/8ADiwE/9wa7Cz0GS7494AAAAAxQZoPSahBbJlMCF///oywABMAaR8+AJ12II7aMfVReHCK\n",
       "3x/mlkci6QVzrM96WNtIwAAAABpBni1FFSwj/wAI8VE2BDLv3kg0yGELv2IPJQAAABYBnkx0R/8A\n",
       "DiRZJ9g1iJzOhhFtuBk9AAAAGAGeTmpH/wAOLAT/215D+UXNrl/hVjDqoQAAAB5BmlJJqEFsmUwI\n",
       "X//+jLAAEx+agJqsvYhzmfGxWrAAAAAZQZ5wRRUsI/8ACPFRNoxP5WOfZFAsG86L4AAAABUBnpFq\n",
       "R/8ADiwEqGxMSRB3TNvLV8EAAAAiQZqWSahBbJlMCF///oywABKEK4fPgBm9z76amo8zj5F9wAAA\n",
       "ABlBnrRFFSwj/wAI8VEfuqK8LS8eW53P32q+AAAAFgGe03RH/wAOJFi32DWU1fWHMW24GT0AAAAW\n",
       "AZ7Vakf/AA4sBJ/bJVZjVrirf8CpeAAAAB5BmtlJqEFsmUwIX//+jLAAEp+agJqsvYjFZ8bFbUEA\n",
       "AAAZQZ73RRUsI/8ACPFRH8TZH3kqM1s5QboIbwAAABYBnxhqR/8ADiwEoiAeoqL2lrpV2RDwAAAA\n",
       "GkGbG0moQWyZTBRML//+jLAAEgBRxuIdEDlhAAAAFQGfOmpH/wAOL32gzhM+Fvp5S8VveAAAAClB\n",
       "mz9J4QpSZTAhf/6MsAASH5qAtrDkAOLNJcN03YRadbHqmBv+cVK2gQAAABlBn11FNEwj/wAI8FQf\n",
       "AhxO5JiPbJmhd/LPAAAAFgGffHRH/wAOJFhKi0e7Rbv3uz/dxzwAAAAWAZ9+akf/AA4sBEGbXkR0\n",
       "AnEcv8J8vAAAABlBm2JJqEFomUwIX//+jLAAEYBdcbiHRA6pAAAAF0GfgEURLCP/AAjxUPPk5s0e\n",
       "8O9Hw8nvAAAAFQGfoWpH/wAOLAPpnC38LnAT+FV3gQAAACxBm6ZJqEFsmUwIX//+jLAAEYBpHz4B\n",
       "eW6nsxeKx74PhCoLuO6UCLV2efSSwAAAABlBn8RFFSwj/wAI8VD1RdG9G1ivMc7n77VfAAAAFwGf\n",
       "43RH/wAOJFfii1k2YXMoJGvZXMN/AAAAFgGf5WpH/wAOLAPpm15ExgXRuAV3XY0AAAAeQZvpSahB\n",
       "bJlMCF///oywABGfmoCarL2IxWfGxXLBAAAAGUGeB0UVLCP/AAjxUPRTUK8N3745XP4ZqjAAAAAV\n",
       "AZ4oakf/AA4sA580dh0AVBku+PeAAAAAKEGaLUmoQWyZTAhf//6MsAARAGkbZdD25FYANZtBPYOf\n",
       "PUNNh5D/VCEAAAAZQZ5LRRUsI/8ACPFQ5UXRh99HhW47ELvwXwAAABYBnmp0R/8ADiRXc3hpYKdl\n",
       "L2jTcDx4AAAAFgGebGpH/wAOLAOlMZl5r7sL4Sb3ch8AAAAdQZpwSahBbJlMCFf//jhAAEG+SrBA\n",
       "YPcxWX7xLAkAAAAbQZ6ORRUsI/8ACPFQ5FNQsBUfZcbMG89SuL6BAAAAFQGer2pH/wAOLANmx3/G\n",
       "0Cr3S72t4AAAACBBmrRJqEFsmUwIR//94QAA99FWPt/j3F75Obq4szZkwAAAACJBntJFFSwj/wAI\n",
       "8VDUZzj0AJZa9s/duCTnai782Kt23VFBAAAAFwGe8XRH/wAOJFcjeGllr2Uxum0iRqaAAAAAFwGe\n",
       "82pH/wAOLANmxys/X9k/mTdyF2/AAAAAHkGa9UmoQWyZTAj//IQAA8jh1Lkpp2OJW01pJlsFGQAA\n",
       "CXZtb292AAAAbG12aGQAAAAAAAAAAAAAAAAAAAPoAAALuAABAAABAAAAAAAAAAAAAAAAAQAAAAAA\n",
       "AAAAAAAAAAAAAAEAAAAAAAAAAAAAAAAAAEAAAAAAAAAAAAAAAAAAAAAAAAAAAAAAAAAAAAAAAAAC\n",
       "AAAIoHRyYWsAAABcdGtoZAAAAAMAAAAAAAAAAAAAAAEAAAAAAAALuAAAAAAAAAAAAAAAAAAAAAAA\n",
       "AQAAAAAAAAAAAAAAAAAAAAEAAAAAAAAAAAAAAAAAAEAAAAABsAAAASAAAAAAACRlZHRzAAAAHGVs\n",
       "c3QAAAAAAAAAAQAAC7gAAAIAAAEAAAAACBhtZGlhAAAAIG1kaGQAAAAAAAAAAAAAAAAAADIAAACW\n",
       "AFXEAAAAAAAtaGRscgAAAAAAAAAAdmlkZQAAAAAAAAAAAAAAAFZpZGVvSGFuZGxlcgAAAAfDbWlu\n",
       "ZgAAABR2bWhkAAAAAQAAAAAAAAAAAAAAJGRpbmYAAAAcZHJlZgAAAAAAAAABAAAADHVybCAAAAAB\n",
       "AAAHg3N0YmwAAACzc3RzZAAAAAAAAAABAAAAo2F2YzEAAAAAAAAAAQAAAAAAAAAAAAAAAAAAAAAB\n",
       "sAEgAEgAAABIAAAAAAAAAAEAAAAAAAAAAAAAAAAAAAAAAAAAAAAAAAAAAAAAAAAAAAAY//8AAAAx\n",
       "YXZjQwFkAB7/4QAYZ2QAHqzZQbCWhAAAAwAEAAADAZA8WLZYAQAGaOvjyyLAAAAAHHV1aWRraEDy\n",
       "XyRPxbo5pRvPAyPzAAAAAAAAABhzdHRzAAAAAAAAAAEAAACWAAABAAAAABRzdHNzAAAAAAAAAAEA\n",
       "AAABAAAEAGN0dHMAAAAAAAAAfgAAAAUAAAIAAAAAAQAABAAAAAACAAABAAAAAAEAAAQAAAAAAgAA\n",
       "AQAAAAABAAAFAAAAAAEAAAIAAAAAAQAAAAAAAAABAAABAAAAAAEAAAQAAAAAAgAAAQAAAAABAAAF\n",
       "AAAAAAEAAAIAAAAAAQAAAAAAAAABAAABAAAAAAEAAAQAAAAAAgAAAQAAAAABAAAFAAAAAAEAAAIA\n",
       "AAAAAQAAAAAAAAABAAABAAAAAAEAAAQAAAAAAgAAAQAAAAABAAAFAAAAAAEAAAIAAAAAAQAAAAAA\n",
       "AAABAAABAAAAAAEAAAQAAAAAAgAAAQAAAAABAAADAAAAAAEAAAEAAAAAAQAABQAAAAABAAACAAAA\n",
       "AAEAAAAAAAAAAQAAAQAAAAABAAAEAAAAAAIAAAEAAAAAAQAABQAAAAABAAACAAAAAAEAAAAAAAAA\n",
       "AQAAAQAAAAABAAAEAAAAAAIAAAEAAAAAAQAABQAAAAABAAACAAAAAAEAAAAAAAAAAQAAAQAAAAAB\n",
       "AAAEAAAAAAIAAAEAAAAAAQAABQAAAAABAAACAAAAAAEAAAAAAAAAAQAAAQAAAAABAAAEAAAAAAIA\n",
       "AAEAAAAAAQAAAwAAAAABAAABAAAAAAEAAAUAAAAAAQAAAgAAAAABAAAAAAAAAAEAAAEAAAAAAQAA\n",
       "BAAAAAACAAABAAAAAAEAAAUAAAAAAQAAAgAAAAABAAAAAAAAAAEAAAEAAAAAAQAABAAAAAACAAAB\n",
       "AAAAAAEAAAUAAAAAAQAAAgAAAAABAAAAAAAAAAEAAAEAAAAAAQAABAAAAAACAAABAAAAAAEAAAMA\n",
       "AAAAAQAAAQAAAAABAAAFAAAAAAEAAAIAAAAAAQAAAAAAAAABAAABAAAAAAEAAAQAAAAAAgAAAQAA\n",
       "AAABAAAFAAAAAAEAAAIAAAAAAQAAAAAAAAABAAABAAAAAAEAAAQAAAAAAgAAAQAAAAABAAAFAAAA\n",
       "AAEAAAIAAAAAAQAAAAAAAAABAAABAAAAAAEAAAQAAAAAAgAAAQAAAAABAAAFAAAAAAEAAAIAAAAA\n",
       "AQAAAAAAAAABAAABAAAAAAEAAAQAAAAAAgAAAQAAAAABAAADAAAAAAEAAAEAAAAAAQAABQAAAAAB\n",
       "AAACAAAAAAEAAAAAAAAAAQAAAQAAAAABAAAEAAAAAAIAAAEAAAAAAQAABQAAAAABAAACAAAAAAEA\n",
       "AAAAAAAAAQAAAQAAAAABAAAEAAAAAAIAAAEAAAAAAQAABQAAAAABAAACAAAAAAEAAAAAAAAAAQAA\n",
       "AQAAAAABAAAEAAAAAAIAAAEAAAAAAQAABQAAAAABAAACAAAAAAEAAAAAAAAAAQAAAQAAAAABAAAC\n",
       "AAAAABxzdHNjAAAAAAAAAAEAAAABAAAAlgAAAAEAAAJsc3RzegAAAAAAAAAAAAAAlgAACgcAAAEj\n",
       "AAAAbQAAAGoAAABlAAAASgAAADkAAAAjAAAAMgAAACQAAAAcAAAATgAAACIAAAAeAAAAGAAAACMA\n",
       "AAAZAAAAFwAAAC0AAAAcAAAAGgAAABkAAAAiAAAAGwAAABcAAAAoAAAAHQAAABgAAAAaAAAAJgAA\n",
       "ABsAAAAXAAAAJgAAABsAAAAYAAAAGAAAAB8AAAAbAAAAGAAAACUAAAAXAAAAMAAAABsAAAAYAAAA\n",
       "GAAAACgAAAAbAAAAFwAAACsAAAAbAAAAGQAAABgAAAAuAAAAGwAAABcAAAAmAAAAGwAAABgAAAAY\n",
       "AAAAMwAAABsAAAAYAAAAIwAAABsAAAAYAAAAGAAAACIAAAAbAAAAGAAAACUAAAAXAAAAMAAAABsA\n",
       "AAAYAAAAGAAAAC8AAAAbAAAAFwAAACYAAAAdAAAAGwAAABkAAAAiAAAAGwAAABcAAAAwAAAAHQAA\n",
       "ABgAAAAaAAAAIQAAAB0AAAAaAAAANwAAABsAAAApAAAAHQAAABoAAAAaAAAAHQAAABsAAAAZAAAA\n",
       "NAAAAB8AAAAaAAAAGgAAACIAAAAdAAAAGQAAADUAAAAeAAAAGgAAABwAAAAiAAAAHQAAABkAAAAm\n",
       "AAAAHQAAABoAAAAaAAAAIgAAAB0AAAAaAAAAHgAAABkAAAAtAAAAHQAAABoAAAAaAAAAHQAAABsA\n",
       "AAAZAAAAMAAAAB0AAAAbAAAAGgAAACIAAAAdAAAAGQAAACwAAAAdAAAAGgAAABoAAAAhAAAAHwAA\n",
       "ABkAAAAkAAAAJgAAABsAAAAbAAAAIgAAABRzdGNvAAAAAAAAAAEAAAAsAAAAYnVkdGEAAABabWV0\n",
       "YQAAAAAAAAAhaGRscgAAAAAAAAAAbWRpcmFwcGwAAAAAAAAAAAAAAAAtaWxzdAAAACWpdG9vAAAA\n",
       "HWRhdGEAAAABAAAAAExhdmY1OC4yOS4xMDA=\n",
       "\">\n",
       "  Your browser does not support the video tag.\n",
       "</video>"
      ],
      "text/plain": [
       "<IPython.core.display.HTML object>"
      ]
     },
     "execution_count": 465,
     "metadata": {},
     "output_type": "execute_result"
    }
   ],
   "source": [
    "#Display interactively\n",
    "HTML(anim.to_html5_video())\n",
    "#Or save to a file in your working directory\n",
    "#anim.save('my_movie.mp4', fps=15)"
   ]
  },
  {
   "cell_type": "code",
   "execution_count": 459,
   "metadata": {},
   "outputs": [],
   "source": [
    "#Interactive\n",
    "#HTML(anim.to_jshtml())"
   ]
  },
  {
   "cell_type": "code",
   "execution_count": null,
   "metadata": {},
   "outputs": [],
   "source": []
  }
 ],
 "metadata": {
  "kernelspec": {
   "display_name": "Python 2",
   "language": "python",
   "name": "python2"
  },
  "language_info": {
   "codemirror_mode": {
    "name": "ipython",
    "version": 2
   },
   "file_extension": ".py",
   "mimetype": "text/x-python",
   "name": "python",
   "nbconvert_exporter": "python",
   "pygments_lexer": "ipython2",
   "version": "2.7.16"
  }
 },
 "nbformat": 4,
 "nbformat_minor": 2
}
